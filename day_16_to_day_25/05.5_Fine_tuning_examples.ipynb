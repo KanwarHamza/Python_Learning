{
 "cells": [
  {
   "cell_type": "markdown",
   "id": "7b33fcf4",
   "metadata": {},
   "source": [
    "# More finetuning of machine learning and different matrics checking"
   ]
  },
  {
   "cell_type": "code",
   "execution_count": null,
   "id": "ceba7401",
   "metadata": {},
   "outputs": [
    {
     "name": "stdout",
     "output_type": "stream",
     "text": [
      "Accuracy Score:  Random Forest : 0.82\n",
      "Accuracy Score:  Logistic Regression : 0.81\n",
      "Accuracy Score:  Decision Tree : 0.76\n",
      "Accuracy Score:  KNN : 0.69\n",
      "Accuracy Score:  SVM : 0.66\n"
     ]
    }
   ],
   "source": [
    "# Import the necessary libraries\n",
    "# import libraries\n",
    "import pandas as pd\n",
    "import numpy as np\n",
    "import seaborn as sns\n",
    "import matplotlib.pyplot as plt\n",
    "\n",
    "df = sns.load_dataset(\"titanic\")\n",
    "X = df[[\"pclass\", \"sex\", \"age\", \"sibsp\", \"parch\", \"fare\"]]\n",
    "y = df[\"survived\"]\n",
    "X = pd.get_dummies(X, columns=[\"sex\"])\n",
    "X.fillna({\"age\": X[\"age\"].mean()}, inplace=True)\n",
    "\n",
    "\n",
    "from sklearn.linear_model import LogisticRegression\n",
    "from sklearn.svm import SVC\n",
    "from sklearn.tree import DecisionTreeClassifier\n",
    "from sklearn.ensemble import RandomForestClassifier\n",
    "from sklearn.neighbors import KNeighborsClassifier\n",
    "from sklearn.metrics import accuracy_score, f1_score, precision_score, recall_score\n",
    "from sklearn.model_selection import train_test_split\n",
    "\n",
    "X_train, X_test, y_train, y_test = train_test_split(\n",
    "    X, y, test_size=0.2, random_state=42\n",
    ")\n",
    "\n",
    "models = [\n",
    "    LogisticRegression(),\n",
    "    SVC(),\n",
    "    DecisionTreeClassifier(),\n",
    "    RandomForestClassifier(),\n",
    "    KNeighborsClassifier(),\n",
    "]\n",
    "model_names = [\"Logistic Regression\", \"SVM\", \"Decision Tree\", \"Random Forest\", \"KNN\"]\n",
    "\n",
    "models_scores = []\n",
    "for model, model_name in zip(models, model_names):\n",
    "    model.fit(X_train, y_train)\n",
    "    y_pred = model.predict(X_test)\n",
    "    accuracy = accuracy_score(y_test, y_pred)\n",
    "    models_scores.append([model_name, accuracy])\n",
    "\n",
    "sorted_models = sorted(models_scores, key=lambda x: x[1], reverse=True)\n",
    "for model in sorted_models:\n",
    "    print(\"Accuracy Score: \", f\"{model[0]} : {model[1]:.2f}\")\n",
    "\n",
    "\n",
    "# Accuracy Score:  Random Forest : 0.81\n",
    "# Accuracy Score:  Decision Tree : 0.79\n",
    "# Accuracy Score:  KNN : 0.76\n",
    "# Accuracy Score:  Logistic Regression : 0.75\n",
    "# Accuracy Score:  SVM : 0.74"
   ]
  },
  {
   "cell_type": "code",
   "execution_count": null,
   "id": "615c31d6",
   "metadata": {},
   "outputs": [
    {
     "name": "stdout",
     "output_type": "stream",
     "text": [
      "Precision Score:  Logistic Regression : 0.80\n",
      "Precision Score:  Random Forest : 0.80\n",
      "Precision Score:  SVM : 0.76\n",
      "Precision Score:  Decision Tree : 0.72\n",
      "Precision Score:  KNN : 0.66\n"
     ]
    }
   ],
   "source": [
    "models = [\n",
    "    LogisticRegression(),\n",
    "    SVC(),\n",
    "    DecisionTreeClassifier(),\n",
    "    RandomForestClassifier(),\n",
    "    KNeighborsClassifier(),\n",
    "]\n",
    "model_names = [\"Logistic Regression\", \"SVM\", \"Decision Tree\", \"Random Forest\", \"KNN\"]\n",
    "models_scores = []\n",
    "for model, model_name in zip(models, model_names):\n",
    "    model.fit(X_train, y_train)\n",
    "    y_pred = model.predict(X_test)\n",
    "    Precision = precision_score(y_test, y_pred)\n",
    "    models_scores.append([model_name, Precision])\n",
    "\n",
    "sorted_models = sorted(models_scores, key=lambda x: x[1], reverse=True)\n",
    "for model in sorted_models:\n",
    "    print(\"Precision Score: \", f\"{model[0]} : {model[1]:.2f}\")\n",
    "\n",
    "# Precision Score:  Random Forest : 0.80\n",
    "# Precision Score:  Decision Tree : 0.78\n",
    "# Precision Score:  KNN : 0.75\n",
    "# Precision Score:  Logistic Regression : 0.74\n",
    "# Precision Score:  SVM : 0.73"
   ]
  },
  {
   "cell_type": "code",
   "execution_count": null,
   "id": "f7436096",
   "metadata": {},
   "outputs": [
    {
     "name": "stdout",
     "output_type": "stream",
     "text": [
      "Recall Score:  Logistic Regression : 0.72\n",
      "Recall Score:  Random Forest : 0.70\n",
      "Recall Score:  Decision Tree : 0.69\n",
      "Recall Score:  KNN : 0.54\n",
      "Recall Score:  SVM : 0.26\n"
     ]
    }
   ],
   "source": [
    "models = [\n",
    "    LogisticRegression(),\n",
    "    SVC(),\n",
    "    DecisionTreeClassifier(),\n",
    "    RandomForestClassifier(),\n",
    "    KNeighborsClassifier(),\n",
    "]\n",
    "model_names = [\"Logistic Regression\", \"SVM\", \"Decision Tree\", \"Random Forest\", \"KNN\"]\n",
    "models_scores = []\n",
    "for model, model_name in zip(models, model_names):\n",
    "    model.fit(X_train, y_train)\n",
    "    y_pred = model.predict(X_test)\n",
    "    Recall = recall_score(y_test, y_pred)\n",
    "    models_scores.append([model_name, Recall])\n",
    "\n",
    "sorted_models = sorted(models_scores, key=lambda x: x[1], reverse=True)\n",
    "for model in sorted_models:\n",
    "    print(\"Recall Score: \", f\"{model[0]} : {model[1]:.2f}\")\n",
    "\n",
    "# Recall Score:  Random Forest : 0.74\n",
    "# Recall Score:  Decision Tree : 0.72\n",
    "# Recall Score:  KNN : 0.68\n",
    "# Recall Score:  Logistic Regression : 0.67\n",
    "# Recall Score:  SVM : 0.65"
   ]
  },
  {
   "cell_type": "code",
   "execution_count": null,
   "id": "2996599a",
   "metadata": {},
   "outputs": [
    {
     "name": "stdout",
     "output_type": "stream",
     "text": [
      "F1 Score:  Random Forest : 0.77\n",
      "F1 Score:  Logistic Regression : 0.76\n",
      "F1 Score:  Decision Tree : 0.70\n",
      "F1 Score:  KNN : 0.59\n",
      "F1 Score:  SVM : 0.38\n"
     ]
    }
   ],
   "source": [
    "models = [\n",
    "    LogisticRegression(),\n",
    "    SVC(),\n",
    "    DecisionTreeClassifier(),\n",
    "    RandomForestClassifier(),\n",
    "    KNeighborsClassifier(),\n",
    "]\n",
    "model_names = [\"Logistic Regression\", \"SVM\", \"Decision Tree\", \"Random Forest\", \"KNN\"]\n",
    "models_scores = []\n",
    "for model, model_name in zip(models, model_names):\n",
    "    model.fit(X_train, y_train)\n",
    "    y_pred = model.predict(X_test)\n",
    "    F1 = f1_score(y_test, y_pred)\n",
    "    models_scores.append([model_name, F1])\n",
    "\n",
    "sorted_models = sorted(models_scores, key=lambda x: x[1], reverse=True)\n",
    "for model in sorted_models:\n",
    "    print(\"F1 Score: \", f\"{model[0]} : {model[1]:.2f}\")\n",
    "\n",
    "# F1 Score:  Random Forest : 0.77\n",
    "# F1 Score:  Decision Tree : 0.75\n",
    "# F1 Score:  KNN : 0.71\n",
    "# F1 Score:  Logistic Regression : 0.70\n",
    "# F1 Score:  SVM : 0.68"
   ]
  }
 ],
 "metadata": {
  "kernelspec": {
   "display_name": "base",
   "language": "python",
   "name": "python3"
  },
  "language_info": {
   "codemirror_mode": {
    "name": "ipython",
    "version": 3
   },
   "file_extension": ".py",
   "mimetype": "text/x-python",
   "name": "python",
   "nbconvert_exporter": "python",
   "pygments_lexer": "ipython3",
   "version": "3.12.4"
  }
 },
 "nbformat": 4,
 "nbformat_minor": 5
}
