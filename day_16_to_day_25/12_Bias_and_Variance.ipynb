{
 "cells": [
  {
   "cell_type": "markdown",
   "id": "5adaaefd",
   "metadata": {},
   "source": [
    "# Bias and Variance"
   ]
  },
  {
   "cell_type": "markdown",
   "id": "7678e7c0",
   "metadata": {},
   "source": [
    "Bias and variance are important concepts in machine learning that help understand the sources of error in models and how to reduce them:\n",
    "\n",
    "    Bias refers to the error due to wrongly estimating the target function. A high bias model cannot capture the trends/patterns and always misses the correct hypothesis.\n",
    "\n",
    "    Variance refers to the error due to sensitivity of the model to variations in the training data. A high variance model overfits the noise in the training data and does not generalize well to new data.\n",
    "\n",
    "    The bias-variance tradeoff indicates there is an optimal level of complexity for a model – one that balances underfitting and overfitting.\n",
    "\n",
    "    High bias and low variance means the model is lacking expressiveness and is too simple to fit the patterns.\n",
    "\n",
    "    Low bias and high variance means the model is overly complex and overfitting to training data.\n",
    "\n",
    "    Increasing model complexity reduces bias but increases variance. Overly complex models overfit.\n",
    "\n",
    "    Reducing complexity reduces variance but increases bias as useful patterns are missed.\n",
    "\n",
    "Understanding this helps choose the right model complexity, add regularization, get more training data etc. to achieve optimal performance on new data. Balancing bias and variance is crucial in machine learning."
   ]
  },
  {
   "cell_type": "markdown",
   "id": "fa82dfaa",
   "metadata": {},
   "source": []
  }
 ],
 "metadata": {
  "language_info": {
   "name": "python"
  }
 },
 "nbformat": 4,
 "nbformat_minor": 5
}
