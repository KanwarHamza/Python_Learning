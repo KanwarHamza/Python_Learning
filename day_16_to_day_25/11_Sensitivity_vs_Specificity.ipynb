{
 "cells": [
  {
   "cell_type": "markdown",
   "id": "df8f64b5",
   "metadata": {},
   "source": [
    "# Sensitivity vs Specificity"
   ]
  },
  {
   "cell_type": "markdown",
   "id": "42e0749e",
   "metadata": {},
   "source": [
    "Sensitivity and specificity are important concepts in machine learning and medical testing.\n",
    "\n",
    "Sensitivity (True Positive Rate):\n",
    "\n",
    "    Refers to the proportion of actual positives that are correctly identified as such.\n",
    "    Calculates the percentage of sick people who are correctly identified as having the condition.\n",
    "    Sensitivity = TP / (TP + FN)\n",
    "\n",
    "Specificity (True Negative Rate):\n",
    "\n",
    "    Refers to the proportion of actual negatives that are correctly identified.\n",
    "    Calculates the percentage of healthy people who are correctly identified as not having the condition.\n",
    "    Specificity = TN / (TN + FP)\n",
    "\n",
    "The key differences between them:\n",
    "\n",
    "    Sensitivity focuses on avoiding false negatives, while specificity focuses on avoiding false positives.\n",
    "\n",
    "    High sensitivity means fewer sick people will be missed. But it may misclassify some healthy people as sick.\n",
    "\n",
    "    High specificity means fewer healthy people will be misclassified. But some sick people may be missed.\n",
    "\n",
    "    There is usually a tradeoff – one cannot be increased without decreasing the other.\n",
    "\n",
    "    The optimal point depends on the application and cost of false positives vs false negatives.\n",
    "\n",
    "So in summary, sensitivity measures model ability to correctly detect positives, while specificity measures ability to correctly detect negatives. Both are important metrics for classification tasks."
   ]
  },
  {
   "cell_type": "markdown",
   "id": "939b55af",
   "metadata": {},
   "source": []
  }
 ],
 "metadata": {
  "language_info": {
   "name": "python"
  }
 },
 "nbformat": 4,
 "nbformat_minor": 5
}
