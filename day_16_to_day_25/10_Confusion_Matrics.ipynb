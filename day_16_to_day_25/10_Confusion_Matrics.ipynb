{
 "cells": [
  {
   "cell_type": "markdown",
   "id": "541c8412",
   "metadata": {},
   "source": [
    "# Confusion Matrics"
   ]
  },
  {
   "cell_type": "markdown",
   "id": "c27ad9a3",
   "metadata": {},
   "source": [
    "A confusion matrix is a table that is often used to summarize the performance of a classification model (or classifier) on a set of test data for which the true values are known.\n",
    "\n",
    "It allows visualization of the performance of the algorithm by comparing predicted labels with actual labels. The matrix will show:\n",
    "\n",
    "    True Positives (TP) – Examples that were predicted positive and are actually positive.\n",
    "\n",
    "    True Negatives (TN) – Examples that were predicted negative and are actually negative.\n",
    "\n",
    "    False Positives (FP) – Examples that were predicted positive but are actually negative. Also known as ‘Type I error’.\n",
    "\n",
    "    False Negatives (FN) – Examples that were predicted negative but are actually positive. Also known as ‘Type II error’.\n",
    "\n",
    "From these, key metrics like:\n",
    "\n",
    "    Accuracy = (TP + TN) / Total\n",
    "    Precision = TP / (TP + FP)\n",
    "    Recall = TP / (TP + FN)\n",
    "    F1 Score = 2 * (Precision * Recall) / (Precision + Recall)\n",
    "\n",
    "Can be directly calculated.\n",
    "\n",
    "The confusion matrix thus provides an overview of classifier performance and the types of errors being made. It is a useful tool for model evaluation, comparison and identification of bias/flaws."
   ]
  },
  {
   "cell_type": "markdown",
   "id": "f4c6f428",
   "metadata": {},
   "source": []
  }
 ],
 "metadata": {
  "language_info": {
   "name": "python"
  }
 },
 "nbformat": 4,
 "nbformat_minor": 5
}
