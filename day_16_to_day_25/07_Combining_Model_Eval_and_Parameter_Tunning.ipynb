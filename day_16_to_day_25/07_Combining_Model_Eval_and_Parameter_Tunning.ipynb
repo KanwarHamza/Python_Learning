{
 "cells": [
  {
   "cell_type": "markdown",
   "id": "79b925c2",
   "metadata": {},
   "source": [
    "# Lets Combine 5, 6 and 7th File Codes\n",
    "\n",
    "Best Estimator + Best Parameter = Best Model"
   ]
  },
  {
   "cell_type": "markdown",
   "id": "822b4715",
   "metadata": {},
   "source": []
  }
 ],
 "metadata": {
  "kernelspec": {
   "display_name": "base",
   "language": "python",
   "name": "python3"
  },
  "language_info": {
   "name": "python",
   "version": "3.12.4"
  }
 },
 "nbformat": 4,
 "nbformat_minor": 5
}
