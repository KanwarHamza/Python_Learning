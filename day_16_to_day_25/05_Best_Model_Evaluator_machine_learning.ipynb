{
 "cells": [
  {
   "cell_type": "markdown",
   "id": "857252a5",
   "metadata": {},
   "source": [
    "# Best Machine Learning Model Evaluation Loop"
   ]
  },
  {
   "cell_type": "code",
   "execution_count": null,
   "id": "b1cc6e69",
   "metadata": {},
   "outputs": [
    {
     "name": "stdout",
     "output_type": "stream",
     "text": [
      "LogisticRegression accuracy_score: 0.81\n",
      "RandomForestClassifier accuracy_score: 0.80\n",
      "GaussianNB accuracy_score: 0.79\n",
      "DecisionTreeClassifier accuracy_score: 0.77\n",
      "KNeighborsClassifier accuracy_score: 0.69\n",
      "SVC accuracy_score: 0.66\n"
     ]
    }
   ],
   "source": [
    "# import libraries\n",
    "import numpy as np\n",
    "import pandas as pd\n",
    "import matplotlib.pyplot as plt\n",
    "import seaborn as sns\n",
    "from sklearn.tree import DecisionTreeClassifier\n",
    "from sklearn.ensemble import RandomForestClassifier\n",
    "from sklearn.linear_model import LogisticRegression\n",
    "from sklearn.naive_bayes import GaussianNB\n",
    "from sklearn.svm import SVC\n",
    "from sklearn.neighbors import KNeighborsClassifier\n",
    "from sklearn.model_selection import train_test_split\n",
    "from sklearn.metrics import (\n",
    "    accuracy_score,\n",
    "    confusion_matrix,\n",
    "    classification_report,\n",
    "    precision_score,\n",
    "    recall_score,\n",
    "    f1_score,\n",
    ")\n",
    "from sklearn.model_selection import cross_val_score\n",
    "from sklearn import tree\n",
    "\n",
    "# import dataset\n",
    "titan = sns.load_dataset(\"titanic\")\n",
    "\n",
    "# categorize x and y\n",
    "x = titan[[\"pclass\", \"sex\", \"age\", \"sibsp\", \"parch\", \"fare\"]]\n",
    "y = titan[\"survived\"]\n",
    "\n",
    "# this converts sex into dummy variables here we are converting sex into dummy variables i.e., male=1, and female=0\n",
    "x = pd.get_dummies(x, columns=[\"sex\"])  # label encoding\n",
    "\n",
    "# deal with missing values of age\n",
    "x.fillna({\"age\": x[\"age\"].mean()}, inplace=True)\n",
    "\n",
    "# train model\n",
    "x_train, x_test, y_train, y_test = train_test_split(\n",
    "    x, y, test_size=0.2, random_state=42\n",
    ")\n",
    "# random state=42 for reproducibility i.e same split every time\n",
    "\n",
    "\n",
    "# models evaluation\n",
    "models = [\n",
    "    DecisionTreeClassifier(),\n",
    "    RandomForestClassifier(),\n",
    "    LogisticRegression(),\n",
    "    GaussianNB(),\n",
    "    SVC(),\n",
    "    KNeighborsClassifier(),\n",
    "]\n",
    "model_names = [\n",
    "    \"DecisionTreeClassifier\",\n",
    "    \"RandomForestClassifier\",\n",
    "    \"LogisticRegression\",\n",
    "    \"GaussianNB\",\n",
    "    \"SVC\",\n",
    "    \"KNeighborsClassifier\",\n",
    "]\n",
    "\n",
    "models_scores = []\n",
    "for model, model_name in zip(models, model_names):\n",
    "    model.fit(x_train, y_train)\n",
    "    y_pred = model.predict(x_test)\n",
    "    accuracy = accuracy_score(y_test, y_pred)\n",
    "    models_scores.append(\n",
    "        [model_name, accuracy]\n",
    "    )  # Changed from model_names to model_name\n",
    "\n",
    "\n",
    "sorted_models = sorted(models_scores, key=lambda x: x[1], reverse=True)\n",
    "# lambda function is used to sort the models by their accuracy scores in descending order.\n",
    "# This is a minimal function that takes a model and its accuracy score as input and returns the accuracy score.\n",
    "\n",
    "for model in sorted_models:\n",
    "    print(f\"{model[0]} accuracy_score: {model[1]:.2f}\")\n",
    "    # {model[1]:.2f} is used to format the accuracy score to two decimal places.\n",
    "    # f here is used to format the string.\n",
    "    # The .2f at the end of the string specifies that the value should be formatted as a floating-point number with two decimal places.\n",
    "    # The f is used to indicate that the value should be formatted as a floating-point number."
   ]
  },
  {
   "cell_type": "markdown",
   "id": "7aff5d19",
   "metadata": {},
   "source": [
    "# Same findings on Different dataset"
   ]
  },
  {
   "cell_type": "code",
   "execution_count": null,
   "id": "dc0e2ff3",
   "metadata": {},
   "outputs": [
    {
     "data": {
      "application/vnd.microsoft.datawrangler.viewer.v0+json": {
       "columns": [
        {
         "name": "index",
         "rawType": "int64",
         "type": "integer"
        },
        {
         "name": "total_bill",
         "rawType": "float64",
         "type": "float"
        },
        {
         "name": "tip",
         "rawType": "float64",
         "type": "float"
        },
        {
         "name": "sex",
         "rawType": "category",
         "type": "unknown"
        },
        {
         "name": "smoker",
         "rawType": "category",
         "type": "unknown"
        },
        {
         "name": "day",
         "rawType": "category",
         "type": "unknown"
        },
        {
         "name": "time",
         "rawType": "category",
         "type": "unknown"
        },
        {
         "name": "size",
         "rawType": "int64",
         "type": "integer"
        }
       ],
       "conversionMethod": "pd.DataFrame",
       "ref": "9997233e-9318-47f8-9616-3b2a4ad23685",
       "rows": [
        [
         "0",
         "16.99",
         "1.01",
         "Female",
         "No",
         "Sun",
         "Dinner",
         "2"
        ],
        [
         "1",
         "10.34",
         "1.66",
         "Male",
         "No",
         "Sun",
         "Dinner",
         "3"
        ],
        [
         "2",
         "21.01",
         "3.5",
         "Male",
         "No",
         "Sun",
         "Dinner",
         "3"
        ],
        [
         "3",
         "23.68",
         "3.31",
         "Male",
         "No",
         "Sun",
         "Dinner",
         "2"
        ],
        [
         "4",
         "24.59",
         "3.61",
         "Female",
         "No",
         "Sun",
         "Dinner",
         "4"
        ]
       ],
       "shape": {
        "columns": 7,
        "rows": 5
       }
      },
      "text/html": [
       "<div>\n",
       "<style scoped>\n",
       "    .dataframe tbody tr th:only-of-type {\n",
       "        vertical-align: middle;\n",
       "    }\n",
       "\n",
       "    .dataframe tbody tr th {\n",
       "        vertical-align: top;\n",
       "    }\n",
       "\n",
       "    .dataframe thead th {\n",
       "        text-align: right;\n",
       "    }\n",
       "</style>\n",
       "<table border=\"1\" class=\"dataframe\">\n",
       "  <thead>\n",
       "    <tr style=\"text-align: right;\">\n",
       "      <th></th>\n",
       "      <th>total_bill</th>\n",
       "      <th>tip</th>\n",
       "      <th>sex</th>\n",
       "      <th>smoker</th>\n",
       "      <th>day</th>\n",
       "      <th>time</th>\n",
       "      <th>size</th>\n",
       "    </tr>\n",
       "  </thead>\n",
       "  <tbody>\n",
       "    <tr>\n",
       "      <th>0</th>\n",
       "      <td>16.99</td>\n",
       "      <td>1.01</td>\n",
       "      <td>Female</td>\n",
       "      <td>No</td>\n",
       "      <td>Sun</td>\n",
       "      <td>Dinner</td>\n",
       "      <td>2</td>\n",
       "    </tr>\n",
       "    <tr>\n",
       "      <th>1</th>\n",
       "      <td>10.34</td>\n",
       "      <td>1.66</td>\n",
       "      <td>Male</td>\n",
       "      <td>No</td>\n",
       "      <td>Sun</td>\n",
       "      <td>Dinner</td>\n",
       "      <td>3</td>\n",
       "    </tr>\n",
       "    <tr>\n",
       "      <th>2</th>\n",
       "      <td>21.01</td>\n",
       "      <td>3.50</td>\n",
       "      <td>Male</td>\n",
       "      <td>No</td>\n",
       "      <td>Sun</td>\n",
       "      <td>Dinner</td>\n",
       "      <td>3</td>\n",
       "    </tr>\n",
       "    <tr>\n",
       "      <th>3</th>\n",
       "      <td>23.68</td>\n",
       "      <td>3.31</td>\n",
       "      <td>Male</td>\n",
       "      <td>No</td>\n",
       "      <td>Sun</td>\n",
       "      <td>Dinner</td>\n",
       "      <td>2</td>\n",
       "    </tr>\n",
       "    <tr>\n",
       "      <th>4</th>\n",
       "      <td>24.59</td>\n",
       "      <td>3.61</td>\n",
       "      <td>Female</td>\n",
       "      <td>No</td>\n",
       "      <td>Sun</td>\n",
       "      <td>Dinner</td>\n",
       "      <td>4</td>\n",
       "    </tr>\n",
       "  </tbody>\n",
       "</table>\n",
       "</div>"
      ],
      "text/plain": [
       "   total_bill   tip     sex smoker  day    time  size\n",
       "0       16.99  1.01  Female     No  Sun  Dinner     2\n",
       "1       10.34  1.66    Male     No  Sun  Dinner     3\n",
       "2       21.01  3.50    Male     No  Sun  Dinner     3\n",
       "3       23.68  3.31    Male     No  Sun  Dinner     2\n",
       "4       24.59  3.61  Female     No  Sun  Dinner     4"
      ]
     },
     "execution_count": 3,
     "metadata": {},
     "output_type": "execute_result"
    }
   ],
   "source": [
    "# import libraries\n",
    "import numpy as np\n",
    "import pandas as pd\n",
    "import matplotlib.pyplot as plt\n",
    "import seaborn as sns\n",
    "from sklearn.tree import DecisionTreeClassifier\n",
    "from sklearn.ensemble import RandomForestClassifier\n",
    "from sklearn.linear_model import LogisticRegression\n",
    "from sklearn.naive_bayes import GaussianNB\n",
    "from sklearn.svm import SVC\n",
    "from sklearn.neighbors import KNeighborsClassifier\n",
    "from sklearn.model_selection import train_test_split\n",
    "from sklearn.metrics import (\n",
    "    accuracy_score,\n",
    "    confusion_matrix,\n",
    "    classification_report,\n",
    "    precision_score,\n",
    "    recall_score,\n",
    "    f1_score,\n",
    ")\n",
    "from sklearn.model_selection import cross_val_score\n",
    "from sklearn import tree\n",
    "\n",
    "# import dataset\n",
    "tips = sns.load_dataset(\"tips\")\n",
    "tips.head()"
   ]
  },
  {
   "cell_type": "code",
   "execution_count": 4,
   "id": "30f96f92",
   "metadata": {},
   "outputs": [
    {
     "data": {
      "text/plain": [
       "total_bill    0\n",
       "tip           0\n",
       "sex           0\n",
       "smoker        0\n",
       "day           0\n",
       "time          0\n",
       "size          0\n",
       "dtype: int64"
      ]
     },
     "execution_count": 4,
     "metadata": {},
     "output_type": "execute_result"
    }
   ],
   "source": [
    "tips.isnull().sum()"
   ]
  },
  {
   "cell_type": "code",
   "execution_count": null,
   "id": "05566db6",
   "metadata": {},
   "outputs": [
    {
     "data": {
      "text/plain": [
       "['Sun', 'Sat', 'Thur', 'Fri']\n",
       "Categories (4, object): ['Thur', 'Fri', 'Sat', 'Sun']"
      ]
     },
     "execution_count": 6,
     "metadata": {},
     "output_type": "execute_result"
    }
   ],
   "source": [
    "tips[\"day\"].unique()"
   ]
  },
  {
   "cell_type": "code",
   "execution_count": null,
   "id": "31fef0ed",
   "metadata": {},
   "outputs": [
    {
     "data": {
      "text/plain": [
       "['Dinner', 'Lunch']\n",
       "Categories (2, object): ['Lunch', 'Dinner']"
      ]
     },
     "execution_count": 7,
     "metadata": {},
     "output_type": "execute_result"
    }
   ],
   "source": [
    "tips[\"time\"].unique()"
   ]
  },
  {
   "cell_type": "code",
   "execution_count": null,
   "id": "e50896b5",
   "metadata": {},
   "outputs": [
    {
     "name": "stdout",
     "output_type": "stream",
     "text": [
      "LogisticRegression accuracy_score: 0.92\n",
      "KNeighborsClassifier accuracy_score: 0.92\n",
      "SVC accuracy_score: 0.90\n",
      "DecisionTreeClassifier accuracy_score: 0.88\n",
      "RandomForestClassifier accuracy_score: 0.88\n",
      "GaussianNB accuracy_score: 0.53\n"
     ]
    },
    {
     "name": "stderr",
     "output_type": "stream",
     "text": [
      "C:\\Users\\user\\AppData\\Roaming\\Python\\Python312\\site-packages\\sklearn\\linear_model\\_logistic.py:469: ConvergenceWarning: lbfgs failed to converge (status=1):\n",
      "STOP: TOTAL NO. OF ITERATIONS REACHED LIMIT.\n",
      "\n",
      "Increase the number of iterations (max_iter) or scale the data as shown in:\n",
      "    https://scikit-learn.org/stable/modules/preprocessing.html\n",
      "Please also refer to the documentation for alternative solver options:\n",
      "    https://scikit-learn.org/stable/modules/linear_model.html#logistic-regression\n",
      "  n_iter_i = _check_optimize_result(\n"
     ]
    }
   ],
   "source": [
    "# categorize x and y\n",
    "x = tips[[\"total_bill\", \"sex\", \"smoker\", \"time\"]]\n",
    "y = tips[\"tip\"]\n",
    "\n",
    "# this converts sex into dummy variables here we are converting sex into dummy variables i.e., male=1, and female=0\n",
    "x = pd.get_dummies(x, columns=[\"sex\"])  # label encoding\n",
    "x = pd.get_dummies(x, columns=[\"time\"])\n",
    "x = pd.get_dummies(x, columns=[\"smoker\"])\n",
    "\n",
    "# turn continuous values into categorical\n",
    "y = pd.cut(tips[\"tip\"], bins=3, labels=[\"low\", \"medium\", \"high\"])\n",
    "\n",
    "# train model\n",
    "x_train, x_test, y_train, y_test = train_test_split(\n",
    "    x, y, test_size=0.2, random_state=42\n",
    ")\n",
    "# random state=42 for reproducibility i.e same split every time\n",
    "\n",
    "\n",
    "# models evaluation\n",
    "models = [\n",
    "    DecisionTreeClassifier(),\n",
    "    RandomForestClassifier(),\n",
    "    LogisticRegression(),\n",
    "    GaussianNB(),\n",
    "    SVC(),\n",
    "    KNeighborsClassifier(),\n",
    "]\n",
    "model_names = [\n",
    "    \"DecisionTreeClassifier\",\n",
    "    \"RandomForestClassifier\",\n",
    "    \"LogisticRegression\",\n",
    "    \"GaussianNB\",\n",
    "    \"SVC\",\n",
    "    \"KNeighborsClassifier\",\n",
    "]\n",
    "\n",
    "models_scores = []\n",
    "for model, model_name in zip(models, model_names):\n",
    "    model.fit(x_train, y_train)\n",
    "    y_pred = model.predict(x_test)\n",
    "    accuracy = accuracy_score(y_test, y_pred)\n",
    "    models_scores.append(\n",
    "        [model_name, accuracy]\n",
    "    )  # Changed from model_names to model_name\n",
    "\n",
    "\n",
    "sorted_models = sorted(models_scores, key=lambda x: x[1], reverse=True)\n",
    "# lambda function is used to sort the models by their accuracy scores in descending order.\n",
    "# This is a minimal function that takes a model and its accuracy score as input and returns the accuracy score.\n",
    "\n",
    "for model in sorted_models:\n",
    "    print(f\"{model[0]} accuracy_score: {model[1]:.2f}\")\n",
    "    # {model[1]:.2f} is used to format the accuracy score to two decimal places.\n",
    "    # f here is used to format the string.\n",
    "    # The .2f at the end of the string specifies that the value should be formatted as a floating-point number with two decimal places.\n",
    "    # The f is used to indicate that the value should be formatted as a floating-point number."
   ]
  },
  {
   "cell_type": "code",
   "execution_count": null,
   "id": "c6a5eb31",
   "metadata": {},
   "outputs": [
    {
     "name": "stderr",
     "output_type": "stream",
     "text": [
      "C:\\Users\\user\\AppData\\Roaming\\Python\\Python312\\site-packages\\sklearn\\metrics\\_classification.py:1531: UndefinedMetricWarning: Recall is ill-defined and being set to 0.0 in labels with no true samples. Use `zero_division` parameter to control this behavior.\n",
      "  _warn_prf(average, modifier, f\"{metric.capitalize()} is\", len(result))\n",
      "C:\\Users\\user\\AppData\\Roaming\\Python\\Python312\\site-packages\\sklearn\\metrics\\_classification.py:1531: UndefinedMetricWarning: Recall is ill-defined and being set to 0.0 in labels with no true samples. Use `zero_division` parameter to control this behavior.\n",
      "  _warn_prf(average, modifier, f\"{metric.capitalize()} is\", len(result))\n",
      "C:\\Users\\user\\AppData\\Roaming\\Python\\Python312\\site-packages\\sklearn\\linear_model\\_logistic.py:469: ConvergenceWarning: lbfgs failed to converge (status=1):\n",
      "STOP: TOTAL NO. OF ITERATIONS REACHED LIMIT.\n",
      "\n",
      "Increase the number of iterations (max_iter) or scale the data as shown in:\n",
      "    https://scikit-learn.org/stable/modules/preprocessing.html\n",
      "Please also refer to the documentation for alternative solver options:\n",
      "    https://scikit-learn.org/stable/modules/linear_model.html#logistic-regression\n",
      "  n_iter_i = _check_optimize_result(\n",
      "C:\\Users\\user\\AppData\\Roaming\\Python\\Python312\\site-packages\\sklearn\\metrics\\_classification.py:1531: UndefinedMetricWarning: Recall is ill-defined and being set to 0.0 in labels with no true samples. Use `zero_division` parameter to control this behavior.\n",
      "  _warn_prf(average, modifier, f\"{metric.capitalize()} is\", len(result))\n",
      "C:\\Users\\user\\AppData\\Roaming\\Python\\Python312\\site-packages\\sklearn\\metrics\\_classification.py:1531: UndefinedMetricWarning: Recall is ill-defined and being set to 0.0 in labels with no true samples. Use `zero_division` parameter to control this behavior.\n",
      "  _warn_prf(average, modifier, f\"{metric.capitalize()} is\", len(result))\n",
      "C:\\Users\\user\\AppData\\Roaming\\Python\\Python312\\site-packages\\sklearn\\metrics\\_classification.py:1531: UndefinedMetricWarning: Precision is ill-defined and being set to 0.0 in labels with no predicted samples. Use `zero_division` parameter to control this behavior.\n",
      "  _warn_prf(average, modifier, f\"{metric.capitalize()} is\", len(result))\n",
      "C:\\Users\\user\\AppData\\Roaming\\Python\\Python312\\site-packages\\sklearn\\metrics\\_classification.py:1531: UndefinedMetricWarning: Recall is ill-defined and being set to 0.0 in labels with no true samples. Use `zero_division` parameter to control this behavior.\n",
      "  _warn_prf(average, modifier, f\"{metric.capitalize()} is\", len(result))\n"
     ]
    },
    {
     "name": "stdout",
     "output_type": "stream",
     "text": [
      "LogisticRegression:\n",
      "  Accuracy: 0.918\n",
      "  Precision: 0.926\n",
      "  Recall: 0.918\n",
      "  F1: 0.919\n",
      "\n",
      "KNeighborsClassifier:\n",
      "  Accuracy: 0.918\n",
      "  Precision: 0.943\n",
      "  Recall: 0.918\n",
      "  F1: 0.902\n",
      "\n",
      "SVC:\n",
      "  Accuracy: 0.898\n",
      "  Precision: 0.806\n",
      "  Recall: 0.898\n",
      "  F1: 0.850\n",
      "\n",
      "DecisionTreeClassifier:\n",
      "  Accuracy: 0.878\n",
      "  Precision: 0.949\n",
      "  Recall: 0.878\n",
      "  F1: 0.907\n",
      "\n",
      "RandomForestClassifier:\n",
      "  Accuracy: 0.857\n",
      "  Precision: 0.920\n",
      "  Recall: 0.857\n",
      "  F1: 0.881\n",
      "\n",
      "GaussianNB:\n",
      "  Accuracy: 0.531\n",
      "  Precision: 0.964\n",
      "  Recall: 0.531\n",
      "  F1: 0.683\n",
      "\n"
     ]
    }
   ],
   "source": [
    "# import libraries\n",
    "import numpy as np\n",
    "import pandas as pd\n",
    "import matplotlib.pyplot as plt\n",
    "import seaborn as sns\n",
    "from sklearn.tree import DecisionTreeClassifier\n",
    "from sklearn.ensemble import RandomForestClassifier\n",
    "from sklearn.linear_model import LogisticRegression\n",
    "from sklearn.naive_bayes import GaussianNB\n",
    "from sklearn.svm import SVC\n",
    "from sklearn.neighbors import KNeighborsClassifier\n",
    "from sklearn.model_selection import train_test_split\n",
    "from sklearn.metrics import (\n",
    "    accuracy_score,\n",
    "    confusion_matrix,\n",
    "    classification_report,\n",
    "    precision_score,\n",
    "    recall_score,\n",
    "    f1_score,\n",
    ")\n",
    "from sklearn.model_selection import cross_val_score\n",
    "from sklearn import tree\n",
    "\n",
    "# categorize x and y\n",
    "x = tips[[\"total_bill\", \"sex\", \"smoker\", \"time\"]]\n",
    "y = tips[\"tip\"]\n",
    "\n",
    "# this converts sex into dummy variables here we are converting sex into dummy variables i.e., male=1, and female=0\n",
    "x = pd.get_dummies(x, columns=[\"sex\"])  # label encoding\n",
    "x = pd.get_dummies(x, columns=[\"time\"])\n",
    "x = pd.get_dummies(x, columns=[\"smoker\"])\n",
    "\n",
    "# turn continuous values into categorical\n",
    "y = pd.cut(tips[\"tip\"], bins=3, labels=[\"low\", \"medium\", \"high\"])\n",
    "\n",
    "# train model\n",
    "x_train, x_test, y_train, y_test = train_test_split(\n",
    "    x, y, test_size=0.2, random_state=42\n",
    ")\n",
    "# random state=42 for reproducibility i.e same split every time\n",
    "\n",
    "\n",
    "# models evaluation\n",
    "models = [\n",
    "    DecisionTreeClassifier(),\n",
    "    RandomForestClassifier(),\n",
    "    LogisticRegression(),\n",
    "    GaussianNB(),\n",
    "    SVC(),\n",
    "    KNeighborsClassifier(),\n",
    "]\n",
    "model_names = [\n",
    "    \"DecisionTreeClassifier\",\n",
    "    \"RandomForestClassifier\",\n",
    "    \"LogisticRegression\",\n",
    "    \"GaussianNB\",\n",
    "    \"SVC\",\n",
    "    \"KNeighborsClassifier\",\n",
    "]\n",
    "\n",
    "from sklearn.metrics import precision_score, recall_score, f1_score, accuracy_score\n",
    "\n",
    "models_scores = []\n",
    "for model, model_name in zip(models, model_names):\n",
    "    model.fit(x_train, y_train)\n",
    "    y_pred = model.predict(x_test)\n",
    "\n",
    "    # Multiclass evaluation metrics\n",
    "    metrics = {\n",
    "        \"Accuracy\": accuracy_score(y_test, y_pred),\n",
    "        \"Precision\": precision_score(y_test, y_pred, average=\"weighted\"),\n",
    "        \"Recall\": recall_score(y_test, y_pred, average=\"weighted\"),\n",
    "        \"F1\": f1_score(y_test, y_pred, average=\"weighted\"),\n",
    "    }\n",
    "    models_scores.append([model_name, metrics])\n",
    "\n",
    "# Print results\n",
    "for model in sorted(models_scores, key=lambda x: x[1][\"Accuracy\"], reverse=True):\n",
    "    print(f\"{model[0]}:\")\n",
    "    print(f\"  Accuracy: {model[1]['Accuracy']:.3f}\")\n",
    "    print(f\"  Precision: {model[1]['Precision']:.3f}\")\n",
    "    print(f\"  Recall: {model[1]['Recall']:.3f}\")\n",
    "    print(f\"  F1: {model[1]['F1']:.3f}\")\n",
    "    print()"
   ]
  },
  {
   "cell_type": "code",
   "execution_count": null,
   "id": "bb65a2af",
   "metadata": {},
   "outputs": [],
   "source": []
  }
 ],
 "metadata": {
  "kernelspec": {
   "display_name": "base",
   "language": "python",
   "name": "python3"
  },
  "language_info": {
   "codemirror_mode": {
    "name": "ipython",
    "version": 3
   },
   "file_extension": ".py",
   "mimetype": "text/x-python",
   "name": "python",
   "nbconvert_exporter": "python",
   "pygments_lexer": "ipython3",
   "version": "3.12.4"
  }
 },
 "nbformat": 4,
 "nbformat_minor": 5
}
