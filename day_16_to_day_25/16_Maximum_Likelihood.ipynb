{
 "cells": [
  {
   "cell_type": "markdown",
   "id": "c0829b23",
   "metadata": {},
   "source": [
    "# Maximum Likelihood Estimation"
   ]
  },
  {
   "cell_type": "markdown",
   "id": "25f1787a",
   "metadata": {},
   "source": [
    "Maximum likelihood estimation is a common approach used for parameter estimation in statistical models. Here are the key aspects of maximum likelihood:\n",
    "\n",
    "    Given a statistical model with parameters and some data, the method estimates the set of parameters that maximize the likelihood or probability of observing the given data.\n",
    "\n",
    "    Likelihood is the conditional probability of obtaining the sample data given the parameters of the distribution.\n",
    "\n",
    "    Maximizing likelihood finds the parameters that make the observed data most probable or likely.\n",
    "\n",
    "    For example, in linear regression the parameters (slope, intercept) that maximize the Gaussian likelihood of the residuals are estimated.\n",
    "\n",
    "    Common methods used for maximization include iterative procedures like gradient ascent.\n",
    "\n",
    "    In statistics, maximum likelihood produces consistent, efficient and asymptotically normal estimates under regularity conditions.\n",
    "\n",
    "    Used widely in building probabilistic models like logistic regression, Naive Bayes, mixture models etc.\n",
    "\n",
    "    Provides natural way to estimate structured probabilistic models with latent variables.\n",
    "\n",
    "    Objectively evaluates which parameter values best “explain” the data without making prior assumptions.\n",
    "\n",
    "So in summary, maximum likelihood is a principled way to estimate parameters of statistical distributions from observed data in an objective, model-consistent manner."
   ]
  },
  {
   "cell_type": "markdown",
   "id": "add07a23",
   "metadata": {},
   "source": []
  }
 ],
 "metadata": {
  "language_info": {
   "name": "python"
  }
 },
 "nbformat": 4,
 "nbformat_minor": 5
}
