{
 "cells": [
  {
   "cell_type": "markdown",
   "id": "837aaac6",
   "metadata": {},
   "source": [
    "# Grid Search\n",
    "\n",
    "it is a process of finding the best parameters for a machine learning model. We can use grid search to find the best parameters for a machine learning model.\n"
   ]
  },
  {
   "cell_type": "code",
   "execution_count": null,
   "id": "5f47af76",
   "metadata": {},
   "outputs": [],
   "source": [
    "# import libraries\n",
    "import pandas as pd\n",
    "import numpy as np\n",
    "import matplotlib.pyplot as plt\n",
    "import seaborn as sns\n",
    "from sklearn.linear_model import LinearRegression\n",
    "from sklearn.model_selection import GridSearchCV\n",
    "from sklearn.ensemble import RandomForestClassifier\n",
    "from sklearn.linear_model import LogisticRegression\n",
    "from sklearn.svm import SVC\n",
    "from sklearn.tree import DecisionTreeClassifier\n",
    "from sklearn.neighbors import KNeighborsClassifier\n",
    "from sklearn.naive_bayes import GaussianNB\n",
    "from sklearn.metrics import accuracy_score, confusion_matrix, classification_report\n",
    "from sklearn.model_selection import train_test_split"
   ]
  },
  {
   "cell_type": "code",
   "execution_count": null,
   "id": "5a826d0a",
   "metadata": {},
   "outputs": [
    {
     "name": "stdout",
     "output_type": "stream",
     "text": [
      "<bound method BaseEstimator.get_params of LinearRegression()>\n",
      "{'copy_X': True, 'fit_intercept': True, 'n_jobs': None, 'positive': False}\n"
     ]
    }
   ],
   "source": [
    "# create a model\n",
    "model = LinearRegression()\n",
    "\n",
    "# get the parameter list\n",
    "print(model.get_params)\n",
    "params = model.get_params()\n",
    "print(params)"
   ]
  },
  {
   "cell_type": "code",
   "execution_count": null,
   "id": "ec220295",
   "metadata": {},
   "outputs": [
    {
     "name": "stdout",
     "output_type": "stream",
     "text": [
      "<bound method BaseEstimator.get_params of RandomForestClassifier()>\n",
      "{'bootstrap': True, 'ccp_alpha': 0.0, 'class_weight': None, 'criterion': 'gini', 'max_depth': None, 'max_features': 'sqrt', 'max_leaf_nodes': None, 'max_samples': None, 'min_impurity_decrease': 0.0, 'min_samples_leaf': 1, 'min_samples_split': 2, 'min_weight_fraction_leaf': 0.0, 'monotonic_cst': None, 'n_estimators': 100, 'n_jobs': None, 'oob_score': False, 'random_state': None, 'verbose': 0, 'warm_start': False}\n"
     ]
    }
   ],
   "source": [
    "# create a model\n",
    "model = RandomForestClassifier()\n",
    "\n",
    "# get the parameter list\n",
    "print(model.get_params)\n",
    "params = model.get_params()\n",
    "print(params)"
   ]
  },
  {
   "cell_type": "code",
   "execution_count": null,
   "id": "8008574c",
   "metadata": {},
   "outputs": [
    {
     "name": "stdout",
     "output_type": "stream",
     "text": [
      "<bound method BaseEstimator.get_params of LogisticRegression()>\n",
      "{'C': 1.0, 'class_weight': None, 'dual': False, 'fit_intercept': True, 'intercept_scaling': 1, 'l1_ratio': None, 'max_iter': 100, 'multi_class': 'deprecated', 'n_jobs': None, 'penalty': 'l2', 'random_state': None, 'solver': 'lbfgs', 'tol': 0.0001, 'verbose': 0, 'warm_start': False}\n"
     ]
    }
   ],
   "source": [
    "# create a model\n",
    "model = LogisticRegression()\n",
    "\n",
    "# get the parameter list\n",
    "print(model.get_params)\n",
    "params = model.get_params()\n",
    "print(params)"
   ]
  },
  {
   "cell_type": "code",
   "execution_count": null,
   "id": "7f1ef1e1",
   "metadata": {},
   "outputs": [
    {
     "name": "stdout",
     "output_type": "stream",
     "text": [
      "<bound method BaseEstimator.get_params of KNeighborsClassifier(n_neighbors=3)>\n",
      "{'algorithm': 'auto', 'leaf_size': 30, 'metric': 'minkowski', 'metric_params': None, 'n_jobs': None, 'n_neighbors': 3, 'p': 2, 'weights': 'uniform'}\n"
     ]
    }
   ],
   "source": [
    "# create a model\n",
    "model = KNeighborsClassifier(n_neighbors=3)\n",
    "\n",
    "# get the parameter list\n",
    "print(model.get_params)\n",
    "params = model.get_params()\n",
    "print(params)"
   ]
  },
  {
   "cell_type": "code",
   "execution_count": null,
   "id": "2739726c",
   "metadata": {},
   "outputs": [
    {
     "name": "stdout",
     "output_type": "stream",
     "text": [
      "<bound method BaseEstimator.get_params of GaussianNB()>\n",
      "{'priors': None, 'var_smoothing': 1e-09}\n"
     ]
    }
   ],
   "source": [
    "# create a model\n",
    "model = GaussianNB()\n",
    "\n",
    "# get the parameter list\n",
    "print(model.get_params)\n",
    "params = model.get_params()\n",
    "print(params)"
   ]
  },
  {
   "cell_type": "code",
   "execution_count": null,
   "id": "f8efacc3",
   "metadata": {},
   "outputs": [
    {
     "name": "stdout",
     "output_type": "stream",
     "text": [
      "<bound method BaseEstimator.get_params of DecisionTreeClassifier()>\n",
      "{'ccp_alpha': 0.0, 'class_weight': None, 'criterion': 'gini', 'max_depth': None, 'max_features': None, 'max_leaf_nodes': None, 'min_impurity_decrease': 0.0, 'min_samples_leaf': 1, 'min_samples_split': 2, 'min_weight_fraction_leaf': 0.0, 'monotonic_cst': None, 'random_state': None, 'splitter': 'best'}\n"
     ]
    }
   ],
   "source": [
    "# create a model\n",
    "model = DecisionTreeClassifier()\n",
    "\n",
    "# get the parameter list\n",
    "print(model.get_params)\n",
    "params = model.get_params()\n",
    "print(params)"
   ]
  },
  {
   "cell_type": "markdown",
   "id": "b40e91b1",
   "metadata": {},
   "source": [
    "# Tweaking the model parameters\n",
    "The parameters of a model are the values that are learned during training. We can tweak these parameters to improve the model's performance. \n",
    "In this exercise, you will tweak the parameters of a model to get the best performance on the test set."
   ]
  },
  {
   "cell_type": "code",
   "execution_count": null,
   "id": "2dd2007d",
   "metadata": {},
   "outputs": [
    {
     "name": "stdout",
     "output_type": "stream",
     "text": [
      "Best parameter:  {'fit_intercept': True}\n"
     ]
    },
    {
     "name": "stderr",
     "output_type": "stream",
     "text": [
      "C:\\Users\\user\\AppData\\Local\\Temp\\ipykernel_13256\\2949887583.py:8: SettingWithCopyWarning: \n",
      "A value is trying to be set on a copy of a slice from a DataFrame\n",
      "\n",
      "See the caveats in the documentation: https://pandas.pydata.org/pandas-docs/stable/user_guide/indexing.html#returning-a-view-versus-a-copy\n",
      "  x.fillna({\"age\": x[\"age\"].mean()}, inplace=True)\n"
     ]
    }
   ],
   "source": [
    "# Linear Regression\n",
    "\n",
    "df = sns.load_dataset(\"titanic\")\n",
    "\n",
    "x = df[[\"age\"]]\n",
    "y = df[\"fare\"]\n",
    "\n",
    "x.fillna({\"age\": x[\"age\"].mean()}, inplace=True)\n",
    "\n",
    "from sklearn.linear_model import LinearRegression\n",
    "from sklearn.model_selection import GridSearchCV\n",
    "\n",
    "# create model\n",
    "model = LinearRegression()\n",
    "\n",
    "# define parameter grid\n",
    "param_grid = {\"fit_intercept\": [True, False]}\n",
    "\n",
    "# object grid search CV (Creating the model)\n",
    "grid_search = GridSearchCV(model, param_grid, cv=5, scoring=\"r2\")\n",
    "\n",
    "# train the model\n",
    "grid_search.fit(x, y)\n",
    "\n",
    "# print the best parameter\n",
    "print(\"Best parameter: \", grid_search.best_params_)"
   ]
  },
  {
   "cell_type": "code",
   "execution_count": 25,
   "id": "7229e4c3",
   "metadata": {},
   "outputs": [
    {
     "data": {
      "text/plain": [
       "Index(['survived', 'pclass', 'sex', 'age', 'sibsp', 'parch', 'fare',\n",
       "       'embarked', 'class', 'who', 'adult_male', 'deck', 'embark_town',\n",
       "       'alive', 'alone'],\n",
       "      dtype='object')"
      ]
     },
     "execution_count": 25,
     "metadata": {},
     "output_type": "execute_result"
    }
   ],
   "source": [
    "df.columns"
   ]
  },
  {
   "cell_type": "code",
   "execution_count": null,
   "id": "59fa8fb6",
   "metadata": {},
   "outputs": [
    {
     "name": "stderr",
     "output_type": "stream",
     "text": [
      "C:\\Users\\user\\AppData\\Local\\Temp\\ipykernel_13256\\3617832521.py:13: SettingWithCopyWarning: \n",
      "A value is trying to be set on a copy of a slice from a DataFrame\n",
      "\n",
      "See the caveats in the documentation: https://pandas.pydata.org/pandas-docs/stable/user_guide/indexing.html#returning-a-view-versus-a-copy\n",
      "  x.fillna({\"age\": x[\"age\"].mean()}, inplace=True)\n"
     ]
    },
    {
     "name": "stdout",
     "output_type": "stream",
     "text": [
      "Best parameter:  {'n_neighbors': 7, 'weights': 'distance'}\n",
      "Best score:  0.6081841432225065\n",
      "Best estimator:  KNeighborsClassifier(n_neighbors=7, weights='distance')\n"
     ]
    }
   ],
   "source": [
    "# KNN Grid Search CV\n",
    "\n",
    "from sklearn.neighbors import KNeighborsClassifier\n",
    "from sklearn.model_selection import GridSearchCV\n",
    "\n",
    "\n",
    "df = sns.load_dataset(\"titanic\")\n",
    "\n",
    "x = df[[\"pclass\", \"sex\", \"age\", \"sibsp\", \"parch\", \"fare\"]]\n",
    "y = df[\"survived\"]\n",
    "\n",
    "# filling missing values\n",
    "x.fillna({\"age\": x[\"age\"].mean()}, inplace=True)\n",
    "\n",
    "# convert categorical data to numerical data\n",
    "x = pd.get_dummies(x, columns=[\"sex\"])\n",
    "\n",
    "# KNN\n",
    "model = KNeighborsClassifier()\n",
    "\n",
    "# parameter grid\n",
    "# param_grid = {\"n_neighbors\": [1, 3, 5, 7, 8, 9], \"weights\": [\"uniform\", \"distance\"]}\n",
    "\n",
    "###OR another way for setting grid###\n",
    "\n",
    "# parameter grid\n",
    "param_grid = {\"n_neighbors\": np.arange(1, 30, 2), \"weights\": [\"uniform\", \"distance\"]}\n",
    "# we use odd numbering in KNN because helps to avoid ties,\n",
    "# prevent bias towards specific classes, provide a more robust decision boundary, and improve the algorithm's overall performance.\n",
    "\n",
    "# object grid search CV (Creating the model)\n",
    "grid_search1 = GridSearchCV(model, param_grid, cv=5, scoring=\"recall\")\n",
    "\n",
    "# train the model\n",
    "grid_search1.fit(x, y)\n",
    "\n",
    "# print the best parameter\n",
    "print(\"Best parameter: \", grid_search1.best_params_)\n",
    "# print the best score\n",
    "print(\"Best score: \", grid_search1.best_score_)\n",
    "# print the best estimator\n",
    "print(\"Best estimator: \", grid_search1.best_estimator_)"
   ]
  },
  {
   "cell_type": "code",
   "execution_count": null,
   "id": "27cfef4c",
   "metadata": {},
   "outputs": [
    {
     "name": "stdout",
     "output_type": "stream",
     "text": [
      "Best Parameters:  {'max_depth': 5, 'min_samples_split': 3}\n",
      "Best Score:  0.8217063492063492\n"
     ]
    }
   ],
   "source": [
    "# Decision Tree Classifier and use best parameters\n",
    "\n",
    "from sklearn.tree import DecisionTreeClassifier\n",
    "from sklearn.model_selection import GridSearchCV\n",
    "import numpy as np\n",
    "\n",
    "# create a model\n",
    "model = DecisionTreeClassifier()\n",
    "# define parameter grid\n",
    "param_grid = {\"max_depth\": [3, 5, 7, None], \"min_samples_split\": [2, 3, 4]}\n",
    "# max depth is the maximum depth of the tree,\n",
    "# and min_samples_split is the minimum number of samples required to split an internal node.\n",
    "\n",
    "# object grid search cv (Creating the model)\n",
    "grid_search = GridSearchCV(model, param_grid, cv=5, scoring=\"precision\")\n",
    "\n",
    "# traing the model\n",
    "grid_search.fit(x, y)\n",
    "\n",
    "# print the best parameters\n",
    "print(\"Best Parameters: \", grid_search.best_params_)\n",
    "print(\"Best Score: \", grid_search.best_score_)"
   ]
  },
  {
   "cell_type": "code",
   "execution_count": null,
   "id": "ed88a237",
   "metadata": {},
   "outputs": [
    {
     "name": "stdout",
     "output_type": "stream",
     "text": [
      "Best Parameters:  {'max_depth': 7, 'max_features': 'log2', 'min_samples_split': 3, 'n_estimators': 100}\n",
      "Best Score:  0.8212923217133744\n"
     ]
    }
   ],
   "source": [
    "# Random Forest and use best parameters\n",
    "\n",
    "from sklearn.ensemble import RandomForestClassifier\n",
    "from sklearn.model_selection import GridSearchCV\n",
    "import numpy as np\n",
    "\n",
    "# create a model\n",
    "model = RandomForestClassifier()\n",
    "\n",
    "# define parameter grid\n",
    "\n",
    "param_grid = {\n",
    "    \"n_estimators\": [10, 50, 100],\n",
    "    \"max_depth\": [3, 5, 7, None],\n",
    "    \"max_features\": [\"sqrt\", \"log2\"],\n",
    "    \"min_samples_split\": [2, 3, 4],\n",
    "}\n",
    "\n",
    "\n",
    "# object grid search cv (Creating the model)\n",
    "grid_search = GridSearchCV(model, param_grid, cv=5, scoring=\"precision\")\n",
    "\n",
    "# traing the model\n",
    "grid_search.fit(x, y)\n",
    "\n",
    "# print the best parameters\n",
    "print(\"Best Parameters: \", grid_search.best_params_)\n",
    "print(\"Best Score: \", grid_search.best_score_)"
   ]
  },
  {
   "cell_type": "code",
   "execution_count": null,
   "id": "0af7a108",
   "metadata": {},
   "outputs": [],
   "source": []
  }
 ],
 "metadata": {
  "kernelspec": {
   "display_name": "base",
   "language": "python",
   "name": "python3"
  },
  "language_info": {
   "codemirror_mode": {
    "name": "ipython",
    "version": 3
   },
   "file_extension": ".py",
   "mimetype": "text/x-python",
   "name": "python",
   "nbconvert_exporter": "python",
   "pygments_lexer": "ipython3",
   "version": "3.12.4"
  }
 },
 "nbformat": 4,
 "nbformat_minor": 5
}
