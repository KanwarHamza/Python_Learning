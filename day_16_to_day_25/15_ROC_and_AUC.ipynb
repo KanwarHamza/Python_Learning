{
 "cells": [
  {
   "cell_type": "markdown",
   "id": "26237ef7",
   "metadata": {},
   "source": [
    "# ROC and AUC"
   ]
  },
  {
   "cell_type": "markdown",
   "id": "41de1d4c",
   "metadata": {},
   "source": [
    "ROC (Receiver Operating Characteristic) curve and AUC (Area Under the Curve) are important evaluation metrics used in machine learning classification problems:\n",
    "\n",
    "    ROC curve is a probability curve that plots the True Positive Rate (Sensitivity) vs False Positive Rate at various classification thresholds.\n",
    "\n",
    "    It provides an indication of model performance independent of class distribution or error costs.\n",
    "\n",
    "    AUC represents the entire two-dimensional area underneath the entire ROC curve from (0,0) to (1,1).\n",
    "\n",
    "    It measures how well a model can distinguish between classes – an AUC of 0.5 means the model performs no better than random chance, while 1.0 is perfect classification.\n",
    "\n",
    "    AUC has a clear probabilistic interpretation and is a discriminative measure – provides information on how well models can discriminate between classes.\n",
    "\n",
    "    Unlike accuracy, it is not influenced by class imbalance or error distribution.\n",
    "\n",
    "    Commonly used for binary and multi-class classification problems to compare models and select the best performing one.\n",
    "\n",
    "    Higher AUC indicates better discriminative ability even at various thresholds and more robust model not dependant on single classification threshold.\n",
    "\n",
    "So in summary, ROC-AUC is a powerful evaluation metric to assess and compare classification models independent of various data characteristics or thresholds."
   ]
  }
 ],
 "metadata": {
  "language_info": {
   "name": "python"
  }
 },
 "nbformat": 4,
 "nbformat_minor": 5
}
