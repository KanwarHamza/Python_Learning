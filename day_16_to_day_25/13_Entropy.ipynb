{
 "cells": [
  {
   "cell_type": "markdown",
   "id": "e9cb1599",
   "metadata": {},
   "source": [
    "# Entropy"
   ]
  },
  {
   "cell_type": "markdown",
   "id": "69fe10e9",
   "metadata": {},
   "source": [
    "Entropy in machine learning and information theory refers to the uncertainty or randomness in a random variable or dataset. Here are the key things to know about entropy:\n",
    "\n",
    "    It is a measure of impurity in a collection of examples. Pure nodes have zero entropy while mixed nodes have high entropy.\n",
    "\n",
    "    In binary classification, entropy is maximum (1) when the class distribution is 50-50 and minimum (0) when all examples belong to a single class.\n",
    "\n",
    "    The formula for calculating entropy (E) of a collection S with probability of elements p(x) is:\n",
    "\n",
    "E(S) = -Σ p(x) log2 p(x)\n",
    "\n",
    "    It is used as a metric for decision tree algorithms like ID3, C4.5, CART etc. to select the best attribute to split the node on.\n",
    "\n",
    "    The attribute with the greatest information gain (highest reduction in entropy) after splitting is chosen as the splitting criterion.\n",
    "\n",
    "    Low entropy nodes/partitions mean examples are well classified with high certainty.\n",
    "\n",
    "    Thus reducing entropy helps generate Pure leaf nodes, improving predictive ability.\n",
    "\n",
    "So in summary, entropy quantifies the uncertainty in data, and reducing it helps machine learning algorithms make smarter predictions with higher confidence."
   ]
  },
  {
   "cell_type": "markdown",
   "id": "b3c4fa9b",
   "metadata": {},
   "source": []
  }
 ],
 "metadata": {
  "language_info": {
   "name": "python"
  }
 },
 "nbformat": 4,
 "nbformat_minor": 5
}
