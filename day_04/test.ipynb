{
 "cells": [
  {
   "cell_type": "markdown",
   "id": "691323aa",
   "metadata": {},
   "source": [
    "this is comment function in jupyter"
   ]
  },
  {
   "cell_type": "markdown",
   "id": "4eee0599",
   "metadata": {},
   "source": [
    "# this is comment function in jupyter\n",
    "#this is comment function in jupyter when you ad a \"# + space\" at the start of the line it is converted into heading in jupyter notebook "
   ]
  },
  {
   "cell_type": "markdown",
   "id": "8300b405",
   "metadata": {},
   "source": [
    "## this is comment function in jupyter\n",
    "if you add two ## + space it will become a second heading"
   ]
  },
  {
   "cell_type": "markdown",
   "id": "0bd6c679",
   "metadata": {},
   "source": [
    "### this is comment function in jupyter\n",
    "if you add ### + space it will become third level heading"
   ]
  },
  {
   "cell_type": "markdown",
   "id": "ffeb85d9",
   "metadata": {},
   "source": [
    "**this is comment function in jupyter**"
   ]
  },
  {
   "cell_type": "markdown",
   "id": "1a17562f",
   "metadata": {},
   "source": [
    "*this is comment function in jupyter*\n",
    "\n",
    "#you can do bold and italics as simple as ctrl+B or ctrl+I same as in word or google doc\n"
   ]
  },
  {
   "cell_type": "code",
   "execution_count": 10,
   "id": "d72e6b18",
   "metadata": {},
   "outputs": [
    {
     "name": "stdout",
     "output_type": "stream",
     "text": [
      "hello world\n",
      "Hamza\n",
      "Hello world\n"
     ]
    }
   ],
   "source": [
    "print (\"hello world\") #this will print a string\n",
    "print (\"Hamza\")\n",
    "print (\"Hello world\")"
   ]
  },
  {
   "cell_type": "code",
   "execution_count": 9,
   "id": "a156b106",
   "metadata": {},
   "outputs": [
    {
     "name": "stdout",
     "output_type": "stream",
     "text": [
      "7\n",
      "9\n"
     ]
    },
    {
     "data": {
      "text/plain": [
       "15"
      ]
     },
     "execution_count": 9,
     "metadata": {},
     "output_type": "execute_result"
    }
   ],
   "source": [
    "#this line will print a number with + function\n",
    "print (3+4)\n",
    "\n",
    "#variables\n",
    "x=9\n",
    "\n",
    "print (x) #this will print the value of x which is 54\n",
    "x+4\n",
    "x+5\n",
    "x+6"
   ]
  },
  {
   "cell_type": "code",
   "execution_count": 11,
   "id": "68b5a236",
   "metadata": {},
   "outputs": [],
   "source": [
    "fruit_basket=(\"Mangoes , Oranges\", \"Bananas\", \"Apples\")"
   ]
  },
  {
   "cell_type": "code",
   "execution_count": 12,
   "id": "22e812c2",
   "metadata": {},
   "outputs": [
    {
     "data": {
      "text/plain": [
       "('Mangoes , Oranges', 'Bananas', 'Apples')"
      ]
     },
     "execution_count": 12,
     "metadata": {},
     "output_type": "execute_result"
    }
   ],
   "source": [
    "fruit_basket"
   ]
  }
 ],
 "metadata": {
  "kernelspec": {
   "display_name": "base",
   "language": "python",
   "name": "python3"
  },
  "language_info": {
   "codemirror_mode": {
    "name": "ipython",
    "version": 3
   },
   "file_extension": ".py",
   "mimetype": "text/x-python",
   "name": "python",
   "nbconvert_exporter": "python",
   "pygments_lexer": "ipython3",
   "version": "3.12.4"
  }
 },
 "nbformat": 4,
 "nbformat_minor": 5
}
