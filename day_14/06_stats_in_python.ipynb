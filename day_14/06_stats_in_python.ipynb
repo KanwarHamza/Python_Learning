{
 "cells": [
  {
   "cell_type": "markdown",
   "id": "711af451",
   "metadata": {},
   "source": [
    "# Inferential Statistics in Python\n",
    "# Continued"
   ]
  },
  {
   "cell_type": "markdown",
   "id": "c9077f11",
   "metadata": {},
   "source": [
    "## In inferential statistics we seek following\n",
    "1. Connection\n",
    "2. Correlation\n",
    "3. Causation\n",
    "4. Prediction "
   ]
  },
  {
   "cell_type": "markdown",
   "id": "742a4667",
   "metadata": {},
   "source": [
    "# Step 4 - Data Type\n",
    "\n",
    "Knowing the type of data is crucial for accurate statistical analysis.\n",
    "In Python, you can use the built-in function `type()` to determine the data type of a variable.\n",
    "\n",
    "Here's an example:\n",
    "\n",
    "```python\n",
    "# Example 1: Integer\n",
    "num = 42\n",
    "print(type(num))  # Output: <class 'int'>\n",
    "\n",
    "# Example 2: Float\n",
    "pi = 3.14159\n",
    "print(type(pi))  # Output: <class 'float'>\n",
    "\n",
    "# Example 3: String\n",
    "name = \"John Doe\"\n",
    "print(type(name))  # Output: <class 'str'>\n",
    "\n",
    "# Example 4: List\n",
    "fruits = [\"apple\", \"banana\", \"cherry\"]\n",
    "print(type(fruits))  # Output: <class 'list'>\n",
    "\n",
    "# Example 5: Tuple\n",
    "coordinates = (10, 20)\n",
    "print(type(coordinates))  # Output: <class 'tuple'>\n",
    "\n",
    "# Example 6: Dictionary\n",
    "person = {\"name\": \"Alice\", \"age\": 30}\n",
    "print(type(person))  # Output: <class 'dict'>\n",
    "\n",
    "# Example 7: Set\n",
    "numbers = {1, 2, 3, 4, 5}\n",
    "print(type(numbers))  # Output: <class 'set'>\n",
    "\n",
    "# Example 8: Boolean\n",
    "is_active = True\n",
    "print(type(is_active))  # Output: <class 'bool'>"
   ]
  },
  {
   "cell_type": "markdown",
   "id": "8955fa4a",
   "metadata": {},
   "source": [
    "# Step 5- Choosing the right statistical test\n",
    "\n",
    "There are three main families to choose a statical test from:\n",
    "\n",
    "1. Chi-sq test\n",
    "2. T-test/Anova\n",
    "3. Correlation/Regression\n",
    "\n",
    "### 1. Chi-sq test\n",
    "\n",
    "The chi-sq test is used to determine if there is a significant difference between the observed and expected frequencies. It is used only when we want to compare two categorical variables. There are two types of chi-sq tests:\n",
    "1. Chi-sq test of independence\n",
    "2. Chi-sq test of homogeneity\n",
    "\n",
    "Chi-sq test of independence is used to determine if there is a significant association between two categorical variables.\\\n",
    "Chi-sq test of homogeneity is used to determine if there is a significant difference in the distribution of a categorical variable across different groups.\\\n",
    "\n",
    " The code to use the chi-squared statistic can be calculated using the `scipy.stats.chi2_contingency` function in Python.\\\n",
    " In numpy the code to calculate the chi-squared statistic can be calculated using the `np.corrcoef` function in numpy.\n",
    "\n",
    "### 2. T-test\n",
    "\n",
    "The t-test is used to determine if there is a significant difference between the means of two groups. This is used when we want to compare categorical and continuous variables. It includes both one-sample and two-sample t-tests.\n",
    "   1. One sample t-test is used to determine if there is a significant difference between the means of two groups.\n",
    "   2. Two sample t-test is used to determine if there is a significant difference between the means of a single sample and a known population mean.Two-sample t-test is used to determine if there is a significant difference between the means of two independent groups.\n",
    "      1. Paired t-test is used to determine if there is a significant difference between the means of the means of two related groups.\n",
    "      2. Independent t-test is used to determine if there is a significant difference between the means of two unrelated groups.\n",
    "\n",
    "Difference between student t-test and Welch's t-test is that the Welch's t-test assumes that the variances of the two groups are equal, while the t-test does not assume this. Welch's t-test is more robust to violations of the equal variance assumption, making it a preferred choice when the assumption is not met. What it means by variance of two groups is that variance is the measure of how much the data points in a group differ from the mean of that group and is calculated as the average of the squared differences from the mean.\n",
    "\n",
    "\n",
    "\n",
    "### 3. ANOVA\n",
    "\n",
    "The ANOVA (Analysis of Variance) is used to compare the means of three or more groups. This is used when we want to compare continuous variables across different categories. There are two types of ANOVA tests: one-way ANOVA and two-way ANOVA. There is also repeated measures ANOVA and mixed ANOVA.\n",
    "   1. One-way ANOVA is used to determine if there is a significant difference between the means of three or more groups.\n",
    "   2. Two-way ANOVA is used to determine if there are any significant interactions between two independent categorical variables on a continuous dependent variable.\n",
    "   3. Repeated measures ANOVA is used when the same subjects are measured multiple times under different conditions. \n",
    "   4. Mixed ANOVA is used when there are both within-subjects and between-subjects factors, allowing for the analysis of data that involves multiple groups and repeated measures.\n",
    "\n",
    "The code to run anova in Python can be done using the `scipy.stats.f_oneway` function. In numpy the code to run anova can be done using the `np.corrcoef` function.\n",
    "Post-hoc tests are often conducted after ANOVA to determine which specific groups are different from each other.\n",
    "The code to use post-hoc tests can be performed using the `statsmodels` library in Python, specifically with the `pairwise_tukeyhsd` function for multiple comparisons.\n",
    "There are several post-hoc tests available in the `statsmodels` library, including Tukey's HSD, Bonferroni, and Scheffe's tests.\n",
    "\n",
    "### 4. Correlation\n",
    "This test is used to assess the relationship between two or more variables and to predict outcomes based on this relationship. This is used when we want to compare continuous variables.\n",
    "\n",
    "### Regression\n",
    "This is a statistical method used to model the relationship between a dependent variable and one or more independent variables, helping to understand how the latter influences the former. This is used when we want to predict outcomes based on this relationship.\n",
    "\n"
   ]
  },
  {
   "cell_type": "markdown",
   "id": "e4fa3f29",
   "metadata": {},
   "source": [
    "# A simple guide how to select and apply test accordingly to the data.\n",
    "\n",
    "Normality---> Parametric Tests---->t-test, ANOVA, etc.\\\n",
    "Non- Normality---> Non-Parametric Tests----> Mann-Whitney U test, Kruskal-Wallis test, etc."
   ]
  },
  {
   "cell_type": "markdown",
   "id": "c919f4be",
   "metadata": {},
   "source": []
  }
 ],
 "metadata": {
  "kernelspec": {
   "display_name": "base",
   "language": "python",
   "name": "python3"
  },
  "language_info": {
   "name": "python",
   "version": "3.12.4"
  }
 },
 "nbformat": 4,
 "nbformat_minor": 5
}
