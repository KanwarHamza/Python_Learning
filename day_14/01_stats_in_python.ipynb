{
 "cells": [
  {
   "cell_type": "markdown",
   "id": "79d5e52b",
   "metadata": {},
   "source": [
    "# Statistics in Python\n",
    "By Kanwar Hamza Shuja"
   ]
  },
  {
   "cell_type": "markdown",
   "id": "06697618",
   "metadata": {},
   "source": [
    "Data ----> Statistics------->Information\\\n",
    "Data is raw facts and figures that can be processed to extract meaningful insights.\n",
    "\n",
    "Statistics is the discipline that uses mathematical theories and methodologies to analyze and interpret data, providing a framework for making decisions based on data.\n",
    "\n",
    "Information is the processed data that has been organized and structured to provide context, relevance, and purpose, enabling informed decision-making."
   ]
  },
  {
   "cell_type": "markdown",
   "id": "c8e0a6c7",
   "metadata": {},
   "source": [
    "## What is statistics in detail?\n",
    "\n",
    "Statistics is the branch of mathematics that deals with collecting, analyzing, interpreting, presenting, and organizing data. It provides methodologies for making inferences about populations based on sample data, allowing researchers to draw conclusions and make predictions. Statistics can be divided into two main categories: descriptive statistics, which summarize and describe the characteristics of a data set, and inferential statistics, which use sample data to make generalizations about a larger population.\n",
    "\n",
    "1. The science of uncertianity\n",
    "2. Method for collecting, analyzing, interpreting and presenting empirical data.\n",
    "3. Two fundamental ideas in the field of statistics are:\n",
    "   1. uncertainity\n",
    "   2. variation\n",
    "\n",
    "\n"
   ]
  },
  {
   "cell_type": "markdown",
   "id": "236bd396",
   "metadata": {},
   "source": [
    "Statistics have two major parts\n",
    "\n",
    "1. Descriptive statistics: which summarize and describe the main features of a dataset using various measures such as mean, median, mode, and standard deviation. These measures help to provide insights into the data's distribution and variability, allowing for better understanding and decision-making. \n",
    "\n",
    "2. Inferential statistics: which involves making predictions or inferences about a population based on a sample of data. It utilizes probability theory to determine the likelihood of certain outcomes, allowing researchers to draw conclusions and make informed decisions. It plays a crucial role in various fields such as economics, psychology, biology, and social sciences, as it helps to identify trends, test hypotheses, and validate theories. \n",
    "\n",
    "These two branches work together to provide a comprehensive understanding of data, enabling researchers to not only describe the data but also to make predictions. By integrating descriptive and inferential statistics, researchers can effectively analyze and interpret data, leading to more accurate conclusions and actionable insights.These processes ensure that the research is systematic, reliable, and valid, ultimately contributing to the overall quality and impact of the findings.\n",
    "\n",
    "It also has several stage process\n",
    "\n",
    "1. Design/Planning\n",
    "2. Data Collection\n",
    "3. Data Analysis\n",
    "4. Interpretation\n",
    "5. Reporting\n",
    "6. Presentation\n",
    "7. Review and Feedback\n",
    "8. Continuous Improvement\n",
    "9. Application of Findings\n",
    "10. Future Research Directions"
   ]
  }
 ],
 "metadata": {
  "kernelspec": {
   "display_name": "base",
   "language": "python",
   "name": "python3"
  },
  "language_info": {
   "name": "python",
   "version": "3.12.4"
  }
 },
 "nbformat": 4,
 "nbformat_minor": 5
}
