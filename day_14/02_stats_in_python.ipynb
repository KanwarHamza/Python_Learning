{
 "cells": [
  {
   "cell_type": "markdown",
   "id": "b8e1a0b7",
   "metadata": {},
   "source": [
    "# Phase-1: Planning\n",
    "\n",
    "* Purpose\n",
    "* Population and Sample Size\n",
    "* Data Collection Methods (census or survey)\n",
    "* Observational or Experimental Study"
   ]
  },
  {
   "cell_type": "markdown",
   "id": "795630d7",
   "metadata": {},
   "source": [
    "## Purpose\n",
    "\n",
    "It is basically why we are collecting the data for. This is important to ensure that our analysis is focused and relevant to our goals. Clearly defining the purpose helps in determining the appropriate methods and metrics for analysis.\n",
    "Such as if we only want to analyze specific trends or patterns in the data rather than conducting a broad analysis of all available data. For instance, if our purpose is to understand customer behavior, we might focus on metrics like purchase frequency and average order value. In this case, we would prioritize collecting data related to customer demographics and purchase history, which would provide valuable insights into their preferences and help tailor our marketing strategies. Additionally, by clearly defining the purpose, we can avoid unnecessary data collection that may not contribute to our objectives, thereby saving time and resources."
   ]
  },
  {
   "cell_type": "markdown",
   "id": "9eef49ea",
   "metadata": {},
   "source": [
    "## Population and Sample Size\n",
    "\n",
    "In statistics, understanding the population and sample size is crucial for making valid inferences. The population refers to the entire group of individuals or instances that we are interested in studying, while a sample is a subset of that population selected for analysis. Proper sample size determination ensures that the results are statistically significant and representative of the population. Sample size can be influenced by various factors, including the desired confidence level, margin of error, and the variability of the population. A larger sample size generally leads to more reliable results, but it also requires more resources and time to collect data."
   ]
  },
  {
   "cell_type": "markdown",
   "id": "8b67ddfe",
   "metadata": {},
   "source": [
    "## Data Collection Method\n",
    "\n",
    "Data collection is an integral part of research methodology. Each method has its own strengths and weaknesses, which will be discussed in detail to provide a comprehensive understanding of how data was collected.\n",
    "Additionally, we will explore the criteria for selecting each method, the sample populations involved, and the tools used for data collection.\n",
    "Furthermore, we will analyze the ethical considerations taken into account during the data collection process, ensuring that participant confidentiality and informed consent were prioritized.\n",
    "Finally, we will present the results obtained from each method, highlighting key findings and their implications for the overall research objectives.\n",
    "We will conclude this section by summarizing the effectiveness of each data collection method and discussing how they contributed to the reliability and validity of the research outcomes.\n"
   ]
  },
  {
   "cell_type": "markdown",
   "id": "c24d007e",
   "metadata": {},
   "source": [
    "# Sampling Techniques\n",
    "Sampling techniques are essential in statistics for selecting a subset of individuals from a population to estimate characteristics of the whole group.\n",
    "There are two types of sampling\n",
    "1. Probability sampling\n",
    "2. Non-probability sampling\n",
    "\n",
    "Probability sampling involves random selection, allowing each member of the population an equal chance of being included, while non-probability sampling does not ensure that every individual has a chance of being selected.\n",
    "Both techniques have their advantages and disadvantages, and the choice of method depends on the research objectives and the nature of the population being studied.\n",
    "\n",
    "### Types of Probability Sampling\n",
    "1. SRS (Simple Random Sampling): In Simple Random Sampling (SRS), every individual has an equal probability of being selected, which helps to eliminate bias and ensures that the sample is representative of the population.\n",
    "2. Systematic Sampling: In systematic sampling, researchers select every nth individual from a list of the population, ensuring a uniform distribution across the sample.\n",
    "3. Stratified Sampling: In stratified sampling, the population is divided into distinct subgroups or strata, and random samples are taken from each stratum to ensure representation across key characteristics.\n",
    "4. Cluster Sampling: In cluster sampling, the population is divided into clusters, usually geographically, and entire clusters are randomly selected for inclusion in the sample, which can be more practical and cost-effective than other methods.\n",
    "5. Multistage Sampling: In multistage sampling, researchers use a combination of sampling methods across different stages, allowing for greater flexibility and efficiency in selecting a representative sample from a large population.\n",
    "\n",
    "\n",
    "### Types of Non-Probability Sampling\n",
    "1. Convenience Sampling: In convenience sampling, researchers select individuals who are easiest to reach, which can lead to significant bias and may not represent the population well.\n",
    "2. Purposive Sampling: In purposive sampling, researchers select individuals based on specific characteristics or criteria, which can provide valuable insights but may also introduce bias if not carefully managed.\n",
    "3. Snowball Sampling: In snowball sampling, existing study subjects recruit future subjects from among their acquaintances, which can be useful for reaching populations that are hard to access, but may also introduce bias as the sample may not be representative of the broader population.\n",
    "4. Quota Sampling: In quota sampling, researchers ensure equal representation of specific characteristics within the sample by setting quotas for different subgroups, which can help to balance the sample but may still introduce bias if not implemented correctly.\n",
    "5. Judgmental Sampling: In judgmental sampling, researchers use their own judgment to select individuals who are believed to be representative of the population, which can provide insights but is highly subjective and may introduce significant bias.\n",
    "6. Volunteer Sampling: In volunteer sampling, individuals self-select to participate in the study, which can provide a readily available sample but may not be representative of the wider population, leading to potential biases.\n",
    "7. Self-Selection Sampling: In self-selection sampling, participants choose to be part of the study, often leading to a sample that may not accurately reflect the broader population, as those who volunteer may have different characteristics or motivations compared to those who do not.\n",
    "8. Accidental Sampling: In accidental sampling, researchers collect data from individuals who happen to be available at the time of the study, which can lead to significant bias and may not accurately represent the population.\n",
    "\n",
    "Understanding these sampling techniques is crucial for researchers to design effective studies and draw valid conclusions from their data. Proper selection of a sampling method can significantly impact the quality and reliability of research findings."
   ]
  },
  {
   "cell_type": "markdown",
   "id": "7e806f01",
   "metadata": {},
   "source": [
    "### How every big search engine collects data\n",
    "Search engines utilize web crawlers to systematically browse the internet, indexing content from various websites. They analyze user queries, track user behavior, and gather data from multiple sources to improve search results and provide relevant advertisements.\n",
    "1. Search\n",
    "2. Click\n",
    "3. Engagement\n",
    "4. Conversion\n",
    "5. Retention\n",
    "6. Feedback"
   ]
  },
  {
   "cell_type": "markdown",
   "id": "feaac24c",
   "metadata": {},
   "source": [
    "## Research Method\n",
    "There are several research method approaches that can be employed to gather and analyze data.\n",
    "Some common methods include qualitative research, quantitative research, and mixed-methods approaches. Each method has its own strengths and weaknesses, and the choice of method depends on the research question and objectives.\n",
    "Qualitative research focuses on understanding human behavior and the reasons that govern such behavior, often using interviews, focus groups, and observations. Quantitative research, on the other hand, involves the collection and analysis of numerical data to identify patterns and test hypotheses. Mixed-methods approaches combine both qualitative and quantitative techniques to provide a more comprehensive understanding of the research problem. It is essential to select the appropriate method based on the specific context of the study and the type of data needed to answer the research questions effectively."
   ]
  },
  {
   "cell_type": "markdown",
   "id": "3f63da62",
   "metadata": {},
   "source": []
  }
 ],
 "metadata": {
  "kernelspec": {
   "display_name": "base",
   "language": "python",
   "name": "python3"
  },
  "language_info": {
   "name": "python",
   "version": "3.12.4"
  }
 },
 "nbformat": 4,
 "nbformat_minor": 5
}
