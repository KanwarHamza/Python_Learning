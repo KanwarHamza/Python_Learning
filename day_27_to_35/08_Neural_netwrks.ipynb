{
 "cells": [
  {
   "cell_type": "markdown",
   "id": "7a0d4a58",
   "metadata": {},
   "source": [
    "# Neural Networks\n",
    "\n",
    "These are the neural networks that we have been using for classification and regression tasks. We will use them for image classification and object detection tasks."
   ]
  },
  {
   "cell_type": "markdown",
   "id": "93d799e9",
   "metadata": {},
   "source": [
    "# Types of Neural Networks"
   ]
  },
  {
   "cell_type": "markdown",
   "id": "e101c979",
   "metadata": {},
   "source": [
    "# Supervised Deep Learning using Neural Networks\n",
    "\n",
    "This is a very simple example of a neural network. The network takes a single input and produces a single output. The input is a number between 0 and 1. The output is the square of the input.\n",
    "\n",
    "Examples:\n",
    "\n",
    "If input is cat/dog images ----> output is cat/dog (Photo tagging and Image classification)\\\n",
    "or\\\n",
    "If input is your prefered data on internet ----> output is ads for you (Recommendation systems)\\\n",
    "or\\\n",
    "If input is Mp3 song ----> Output is Text transcription (Speech recognition)\\\n",
    "or\\\n",
    "If input is image, sona info, radar info, GIS info-------> Output is position of the car (Autonomous driving)\n",
    "\n",
    "\n",
    "\n",
    "For marketplace applications and online advertisment type of data usually standard NNs(Neural networks) are used.\n",
    "For photo tagging and image classification, CNNs(Convolutional neural networks) are used.\n",
    "For speech recognition, RNNs(Runnning neural networks) are used.\n",
    "For Autonomous driving, hybrid models (CNNs and RNNs) are used.\n",
    "\n",
    "These three types NNs, RNN and CNN are the arthitecture of the Neural networks."
   ]
  },
  {
   "cell_type": "markdown",
   "id": "a38bdfa0",
   "metadata": {},
   "source": []
  }
 ],
 "metadata": {
  "language_info": {
   "name": "python"
  }
 },
 "nbformat": 4,
 "nbformat_minor": 5
}
