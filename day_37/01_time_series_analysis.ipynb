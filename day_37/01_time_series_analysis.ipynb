{
 "cells": [
  {
   "cell_type": "markdown",
   "id": "6fcef4aa",
   "metadata": {},
   "source": [
    "# Time Series Analysis\n",
    "\n",
    "Time series data is a sequence of data points collected over time. It is used to analyze the behavior of a system over time. Time series analysis is a statistical technique that is used to analyze time series data. It is used to identify patterns and trends in the data. It is used to forecast future values of the data. It is used to detect anomalies in the data. It is used to detect outliers in the data. It is used to detect changes in the data. It is used to detect shifts in the data. It is used to detect seasonality in the data. It is used to detect cyclicity in the data.\n",
    "\n",
    "When we predict something on the basis of time it is called forecasting. There are somethings that are always present in such analysis. They are:\n",
    "1. Time\n",
    "2. Seasonality (seasonal effects)\n",
    "3. Trend\n",
    "4. Cyclicity (cyclic effects)\n",
    "5. Randomness"
   ]
  },
  {
   "cell_type": "markdown",
   "id": "dcbf75e3",
   "metadata": {},
   "source": [
    "# 1. OpenNeuro (fMRI/EEG/MEG)\n",
    "\n",
    "    Description: Raw brain imaging data from cognitive experiments\n",
    "\n",
    "    Datasets:\n",
    "\n",
    "        Stroop Task fMRI (Conflict processing)\n",
    "\n",
    "        Resting-State EEG (Alpha waves)\n",
    "\n",
    "    Use Case: Neuroimaging time-series analysis\n",
    "\n",
    "### Requires MNE-Python for EEG/MEG\n",
    "import mne\n",
    "raw = mne.io.read_raw_fif('sub-01_task-rest_eeg.fif', preload=True)\n",
    "raw.plot(block=True)  # Visualize brain waves"
   ]
  },
  {
   "cell_type": "markdown",
   "id": "8c54db35",
   "metadata": {},
   "source": [
    "# 2. PsychoPy Datasets\n",
    "\n",
    "    Description: Behavioral response times/accuracy from cognitive tasks\n",
    "\n",
    "    Example: Simon Task Data\n",
    "\n",
    "    Use Case: Reaction time analysis\n",
    "\n",
    "import pandas as pd\n",
    "df = pd.read_csv('simon_task_results.csv')\n",
    "### Analyze conflict effect:\n",
    "congruent_rt = df[df.congruent].reaction_time.mean()\n",
    "incongruent_rt = df[~df.congruent].reaction_time.mean()\n",
    "print(f\"Simon Effect: {incongruent_rt - congruent_rt:.0f}ms\")"
   ]
  },
  {
   "cell_type": "markdown",
   "id": "f740589e",
   "metadata": {},
   "source": [
    "# 3. EEG Eye State (UCI)\n",
    "\n",
    "    Description: EEG recordings labeled as eyes open/closed\n",
    "\n",
    "    Download: UCI Archive\n",
    "\n",
    "    Use Case: Binary classification of brain states\n",
    "\n",
    "from sklearn.ensemble import RandomForestClassifier\n",
    "X = pd.read_csv('eeg_eye_state.csv').values\n",
    "y = X[:, -1]  # Last column is label\n",
    "clf = RandomForestClassifier().fit(X[:, :-1], y)\n",
    "print(f\"Accuracy: {clf.score(X[:, :-1], y):.1%}\")"
   ]
  },
  {
   "cell_type": "markdown",
   "id": "de7a871b",
   "metadata": {},
   "source": [
    "# 4. Iowa Gambling Task\n",
    "\n",
    "    Description: Decision-making under uncertainty (prefrontal cortex function)\n",
    "\n",
    "    Dataset: Kaggle Example\n",
    "\n",
    "    Use Case: Reinforcement learning in neuropsychology\n",
    "\n",
    "\n",
    "df = pd.read_csv('igt_results.csv')\n",
    "### Track deck selection changes over trials\n",
    "df.groupby('trial').deck_choice.value_counts().unstack().plot()"
   ]
  },
  {
   "cell_type": "markdown",
   "id": "73ad77be",
   "metadata": {},
   "source": [
    "# 5. Cognitive Load & Pupillometry\n",
    "\n",
    "    Description: Pupil diameter time-series during mental tasks\n",
    "\n",
    "    Dataset: PupilLabs Demo Data\n",
    "\n",
    "    Use Case: Cognitive load quantification\n",
    "\n",
    "pupil_data = pd.read_csv('pupil_positions.csv', parse_dates=['timestamp'])\n",
    "pupil_data['diameter'].rolling(100).mean().plot()  # Smooth pupil changes"
   ]
  },
  {
   "cell_type": "markdown",
   "id": "a5e9f946",
   "metadata": {},
   "source": [
    "# VS Code Setup for Neuro Data\n",
    "\n",
    "    Key Libraries:\n",
    "\n",
    "pip install mne pandas matplotlib seaborn nilearn"
   ]
  },
  {
   "cell_type": "markdown",
   "id": "8b3031bc",
   "metadata": {},
   "source": [
    "# Visualization Time Series Data\n",
    "\n",
    "### Plot ERP (Event-Related Potential)\n",
    "epochs = mne.Epochs(raw, events, event_id=1)\n",
    "epochs.plot_image(picks='eeg')"
   ]
  },
  {
   "cell_type": "markdown",
   "id": "cc1b5d83",
   "metadata": {},
   "source": [
    "# Practice Ideas\n",
    "\n",
    "    Detect P300 ERP components in EEG data\n",
    "\n",
    "    Model Hick's Law (reaction time vs. choices)\n",
    "\n",
    "    Compare fMRI activation in prefrontal cortex during working memory tasks\n",
    "\n",
    "# For deeper analysis, check:\n",
    "\n",
    "    NeuroKit2 for physiological signals\n",
    "\n",
    "    Nilearn for fMRI"
   ]
  },
  {
   "cell_type": "markdown",
   "id": "e97169c1",
   "metadata": {},
   "source": []
  }
 ],
 "metadata": {
  "kernelspec": {
   "display_name": "tf_env",
   "language": "python",
   "name": "python3"
  },
  "language_info": {
   "name": "python",
   "version": "3.10.16"
  }
 },
 "nbformat": 4,
 "nbformat_minor": 5
}
