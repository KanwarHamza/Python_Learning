{
 "cells": [
  {
   "cell_type": "code",
   "execution_count": 9,
   "id": "ece4d25c",
   "metadata": {},
   "outputs": [],
   "source": [
    "#Step 1\\\n",
    "# importing libraries\n",
    "\n",
    "import pandas as pd"
   ]
  },
  {
   "cell_type": "code",
   "execution_count": 22,
   "id": "64c14a48",
   "metadata": {},
   "outputs": [],
   "source": [
    "#Step 2\\\n",
    "#Reading/importing dataset with assigning a name\n",
    "\n",
    "df=pd.read_excel(\"pandas_01.xlsx\") \n",
    "\n",
    "#write the path if you want to load data from another folder such as C:\\\\Doccuments\\123.docx etc.\n",
    "\n"
   ]
  },
  {
   "cell_type": "code",
   "execution_count": 23,
   "id": "ac0f06f6",
   "metadata": {},
   "outputs": [
    {
     "name": "stdout",
     "output_type": "stream",
     "text": [
      "      height  weight favourite_dish\n",
      "0   5.600000      46         Burger\n",
      "1   5.317767      71        Samosay\n",
      "2   5.172670      81          Pizza\n",
      "3   6.141776      63      Dhaibalay\n",
      "4   5.314216      46       Fish fry\n",
      "..       ...     ...            ...\n",
      "95  5.949737      87         Haleem\n",
      "96  6.053873      59         Burger\n",
      "97  5.857475      66          Roast\n",
      "98  5.199388      71          Pizza\n",
      "99  5.748519      69         Burger\n",
      "\n",
      "[100 rows x 3 columns]\n"
     ]
    }
   ],
   "source": [
    "print(df)\n"
   ]
  },
  {
   "cell_type": "code",
   "execution_count": 24,
   "id": "88ba8d9c",
   "metadata": {},
   "outputs": [
    {
     "data": {
      "text/html": [
       "<div>\n",
       "<style scoped>\n",
       "    .dataframe tbody tr th:only-of-type {\n",
       "        vertical-align: middle;\n",
       "    }\n",
       "\n",
       "    .dataframe tbody tr th {\n",
       "        vertical-align: top;\n",
       "    }\n",
       "\n",
       "    .dataframe thead th {\n",
       "        text-align: right;\n",
       "    }\n",
       "</style>\n",
       "<table border=\"1\" class=\"dataframe\">\n",
       "  <thead>\n",
       "    <tr style=\"text-align: right;\">\n",
       "      <th></th>\n",
       "      <th>height</th>\n",
       "      <th>weight</th>\n",
       "      <th>favourite_dish</th>\n",
       "    </tr>\n",
       "  </thead>\n",
       "  <tbody>\n",
       "    <tr>\n",
       "      <th>0</th>\n",
       "      <td>5.600000</td>\n",
       "      <td>46</td>\n",
       "      <td>Burger</td>\n",
       "    </tr>\n",
       "    <tr>\n",
       "      <th>1</th>\n",
       "      <td>5.317767</td>\n",
       "      <td>71</td>\n",
       "      <td>Samosay</td>\n",
       "    </tr>\n",
       "    <tr>\n",
       "      <th>2</th>\n",
       "      <td>5.172670</td>\n",
       "      <td>81</td>\n",
       "      <td>Pizza</td>\n",
       "    </tr>\n",
       "    <tr>\n",
       "      <th>3</th>\n",
       "      <td>6.141776</td>\n",
       "      <td>63</td>\n",
       "      <td>Dhaibalay</td>\n",
       "    </tr>\n",
       "    <tr>\n",
       "      <th>4</th>\n",
       "      <td>5.314216</td>\n",
       "      <td>46</td>\n",
       "      <td>Fish fry</td>\n",
       "    </tr>\n",
       "    <tr>\n",
       "      <th>5</th>\n",
       "      <td>5.699034</td>\n",
       "      <td>89</td>\n",
       "      <td>BBQ</td>\n",
       "    </tr>\n",
       "    <tr>\n",
       "      <th>6</th>\n",
       "      <td>5.907154</td>\n",
       "      <td>80</td>\n",
       "      <td>Chicken Handi</td>\n",
       "    </tr>\n",
       "    <tr>\n",
       "      <th>7</th>\n",
       "      <td>5.351350</td>\n",
       "      <td>66</td>\n",
       "      <td>Haleem</td>\n",
       "    </tr>\n",
       "    <tr>\n",
       "      <th>8</th>\n",
       "      <td>5.502971</td>\n",
       "      <td>77</td>\n",
       "      <td>Roast</td>\n",
       "    </tr>\n",
       "    <tr>\n",
       "      <th>9</th>\n",
       "      <td>5.789085</td>\n",
       "      <td>71</td>\n",
       "      <td>Roast</td>\n",
       "    </tr>\n",
       "  </tbody>\n",
       "</table>\n",
       "</div>"
      ],
      "text/plain": [
       "     height  weight favourite_dish\n",
       "0  5.600000      46         Burger\n",
       "1  5.317767      71        Samosay\n",
       "2  5.172670      81          Pizza\n",
       "3  6.141776      63      Dhaibalay\n",
       "4  5.314216      46       Fish fry\n",
       "5  5.699034      89            BBQ\n",
       "6  5.907154      80  Chicken Handi\n",
       "7  5.351350      66         Haleem\n",
       "8  5.502971      77          Roast\n",
       "9  5.789085      71          Roast"
      ]
     },
     "execution_count": 24,
     "metadata": {},
     "output_type": "execute_result"
    }
   ],
   "source": [
    "df.head(10)"
   ]
  },
  {
   "cell_type": "code",
   "execution_count": 25,
   "id": "4b388aa3",
   "metadata": {},
   "outputs": [
    {
     "data": {
      "text/html": [
       "<div>\n",
       "<style scoped>\n",
       "    .dataframe tbody tr th:only-of-type {\n",
       "        vertical-align: middle;\n",
       "    }\n",
       "\n",
       "    .dataframe tbody tr th {\n",
       "        vertical-align: top;\n",
       "    }\n",
       "\n",
       "    .dataframe thead th {\n",
       "        text-align: right;\n",
       "    }\n",
       "</style>\n",
       "<table border=\"1\" class=\"dataframe\">\n",
       "  <thead>\n",
       "    <tr style=\"text-align: right;\">\n",
       "      <th></th>\n",
       "      <th>height</th>\n",
       "      <th>weight</th>\n",
       "      <th>favourite_dish</th>\n",
       "    </tr>\n",
       "  </thead>\n",
       "  <tbody>\n",
       "    <tr>\n",
       "      <th>90</th>\n",
       "      <td>5.412689</td>\n",
       "      <td>85</td>\n",
       "      <td>BBQ</td>\n",
       "    </tr>\n",
       "    <tr>\n",
       "      <th>91</th>\n",
       "      <td>5.348893</td>\n",
       "      <td>75</td>\n",
       "      <td>Samosay</td>\n",
       "    </tr>\n",
       "    <tr>\n",
       "      <th>92</th>\n",
       "      <td>5.173363</td>\n",
       "      <td>60</td>\n",
       "      <td>Haleem</td>\n",
       "    </tr>\n",
       "    <tr>\n",
       "      <th>93</th>\n",
       "      <td>5.456473</td>\n",
       "      <td>63</td>\n",
       "      <td>Dhaibalay</td>\n",
       "    </tr>\n",
       "    <tr>\n",
       "      <th>94</th>\n",
       "      <td>5.297525</td>\n",
       "      <td>74</td>\n",
       "      <td>Chicken Handi</td>\n",
       "    </tr>\n",
       "    <tr>\n",
       "      <th>95</th>\n",
       "      <td>5.949737</td>\n",
       "      <td>87</td>\n",
       "      <td>Haleem</td>\n",
       "    </tr>\n",
       "    <tr>\n",
       "      <th>96</th>\n",
       "      <td>6.053873</td>\n",
       "      <td>59</td>\n",
       "      <td>Burger</td>\n",
       "    </tr>\n",
       "    <tr>\n",
       "      <th>97</th>\n",
       "      <td>5.857475</td>\n",
       "      <td>66</td>\n",
       "      <td>Roast</td>\n",
       "    </tr>\n",
       "    <tr>\n",
       "      <th>98</th>\n",
       "      <td>5.199388</td>\n",
       "      <td>71</td>\n",
       "      <td>Pizza</td>\n",
       "    </tr>\n",
       "    <tr>\n",
       "      <th>99</th>\n",
       "      <td>5.748519</td>\n",
       "      <td>69</td>\n",
       "      <td>Burger</td>\n",
       "    </tr>\n",
       "  </tbody>\n",
       "</table>\n",
       "</div>"
      ],
      "text/plain": [
       "      height  weight favourite_dish\n",
       "90  5.412689      85            BBQ\n",
       "91  5.348893      75        Samosay\n",
       "92  5.173363      60         Haleem\n",
       "93  5.456473      63      Dhaibalay\n",
       "94  5.297525      74  Chicken Handi\n",
       "95  5.949737      87         Haleem\n",
       "96  6.053873      59         Burger\n",
       "97  5.857475      66          Roast\n",
       "98  5.199388      71          Pizza\n",
       "99  5.748519      69         Burger"
      ]
     },
     "execution_count": 25,
     "metadata": {},
     "output_type": "execute_result"
    }
   ],
   "source": [
    "df.tail(10)"
   ]
  },
  {
   "cell_type": "code",
   "execution_count": 26,
   "id": "c692a464",
   "metadata": {},
   "outputs": [
    {
     "data": {
      "text/plain": [
       "(100, 3)"
      ]
     },
     "execution_count": 26,
     "metadata": {},
     "output_type": "execute_result"
    }
   ],
   "source": [
    "df.shape"
   ]
  },
  {
   "cell_type": "code",
   "execution_count": 27,
   "id": "796c2e05",
   "metadata": {},
   "outputs": [
    {
     "name": "stdout",
     "output_type": "stream",
     "text": [
      "<class 'pandas.core.frame.DataFrame'>\n",
      "RangeIndex: 100 entries, 0 to 99\n",
      "Data columns (total 3 columns):\n",
      " #   Column          Non-Null Count  Dtype  \n",
      "---  ------          --------------  -----  \n",
      " 0   height          100 non-null    float64\n",
      " 1   weight          100 non-null    int64  \n",
      " 2   favourite_dish  100 non-null    object \n",
      "dtypes: float64(1), int64(1), object(1)\n",
      "memory usage: 2.5+ KB\n"
     ]
    }
   ],
   "source": [
    "df.info()"
   ]
  }
 ],
 "metadata": {
  "kernelspec": {
   "display_name": "base",
   "language": "python",
   "name": "python3"
  },
  "language_info": {
   "codemirror_mode": {
    "name": "ipython",
    "version": 3
   },
   "file_extension": ".py",
   "mimetype": "text/x-python",
   "name": "python",
   "nbconvert_exporter": "python",
   "pygments_lexer": "ipython3",
   "version": "3.12.4"
  }
 },
 "nbformat": 4,
 "nbformat_minor": 5
}
