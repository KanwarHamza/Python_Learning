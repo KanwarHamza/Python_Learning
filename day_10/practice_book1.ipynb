{
 "cells": [
  {
   "cell_type": "markdown",
   "id": "8d8511b0",
   "metadata": {},
   "source": [
    "# Series"
   ]
  },
  {
   "cell_type": "code",
   "execution_count": 1,
   "id": "dccf2980",
   "metadata": {},
   "outputs": [],
   "source": [
    "import pandas as pd\n",
    "import numpy as np\n",
    "import matplotlib.pyplot as plt\n",
    "import seaborn as sns\n"
   ]
  },
  {
   "cell_type": "code",
   "execution_count": 2,
   "id": "8a3e29dc",
   "metadata": {},
   "outputs": [],
   "source": [
    "#series one dimensional\n",
    "\n",
    "series = pd.Series([-3, 5, 6, 4, 5], index=['a', 'b', 'c', 'd', 'e'])\n",
    "\n"
   ]
  },
  {
   "cell_type": "code",
   "execution_count": 3,
   "id": "a8f00633",
   "metadata": {},
   "outputs": [
    {
     "data": {
      "text/plain": [
       "a   -3\n",
       "b    5\n",
       "c    6\n",
       "d    4\n",
       "e    5\n",
       "dtype: int64"
      ]
     },
     "execution_count": 3,
     "metadata": {},
     "output_type": "execute_result"
    }
   ],
   "source": [
    "series\n"
   ]
  },
  {
   "cell_type": "code",
   "execution_count": 4,
   "id": "35613edf",
   "metadata": {},
   "outputs": [],
   "source": [
    "#two dimension array \n",
    "\n",
    "data = {'country': ['Pakistan', 'India', 'Bangladesh', 'Sri Lanka', 'Nepal'],\n",
    "    'capital' : ['Islamabad', 'New Delhi', 'Dhaka', 'Colombo', 'Khatmandu'],\n",
    "    'population' : [2166, 1380, 1660, 2150, 34255]}\n",
    "df = pd.DataFrame(data, columns=['country', 'capital', 'population'], index=[1, 2, 3, 4, 5])"
   ]
  },
  {
   "cell_type": "code",
   "execution_count": 5,
   "id": "7bccb9e0",
   "metadata": {},
   "outputs": [
    {
     "data": {
      "text/html": [
       "<div>\n",
       "<style scoped>\n",
       "    .dataframe tbody tr th:only-of-type {\n",
       "        vertical-align: middle;\n",
       "    }\n",
       "\n",
       "    .dataframe tbody tr th {\n",
       "        vertical-align: top;\n",
       "    }\n",
       "\n",
       "    .dataframe thead th {\n",
       "        text-align: right;\n",
       "    }\n",
       "</style>\n",
       "<table border=\"1\" class=\"dataframe\">\n",
       "  <thead>\n",
       "    <tr style=\"text-align: right;\">\n",
       "      <th></th>\n",
       "      <th>country</th>\n",
       "      <th>capital</th>\n",
       "      <th>population</th>\n",
       "    </tr>\n",
       "  </thead>\n",
       "  <tbody>\n",
       "    <tr>\n",
       "      <th>1</th>\n",
       "      <td>Pakistan</td>\n",
       "      <td>Islamabad</td>\n",
       "      <td>2166</td>\n",
       "    </tr>\n",
       "    <tr>\n",
       "      <th>2</th>\n",
       "      <td>India</td>\n",
       "      <td>New Delhi</td>\n",
       "      <td>1380</td>\n",
       "    </tr>\n",
       "    <tr>\n",
       "      <th>3</th>\n",
       "      <td>Bangladesh</td>\n",
       "      <td>Dhaka</td>\n",
       "      <td>1660</td>\n",
       "    </tr>\n",
       "    <tr>\n",
       "      <th>4</th>\n",
       "      <td>Sri Lanka</td>\n",
       "      <td>Colombo</td>\n",
       "      <td>2150</td>\n",
       "    </tr>\n",
       "    <tr>\n",
       "      <th>5</th>\n",
       "      <td>Nepal</td>\n",
       "      <td>Khatmandu</td>\n",
       "      <td>34255</td>\n",
       "    </tr>\n",
       "  </tbody>\n",
       "</table>\n",
       "</div>"
      ],
      "text/plain": [
       "      country    capital  population\n",
       "1    Pakistan  Islamabad        2166\n",
       "2       India  New Delhi        1380\n",
       "3  Bangladesh      Dhaka        1660\n",
       "4   Sri Lanka    Colombo        2150\n",
       "5       Nepal  Khatmandu       34255"
      ]
     },
     "execution_count": 5,
     "metadata": {},
     "output_type": "execute_result"
    }
   ],
   "source": [
    "df\n"
   ]
  },
  {
   "cell_type": "markdown",
   "id": "23cd8765",
   "metadata": {},
   "source": [
    "# Dropping values"
   ]
  },
  {
   "cell_type": "code",
   "execution_count": 6,
   "id": "38b90886",
   "metadata": {},
   "outputs": [
    {
     "data": {
      "text/plain": [
       "b    5\n",
       "d    4\n",
       "e    5\n",
       "dtype: int64"
      ]
     },
     "execution_count": 6,
     "metadata": {},
     "output_type": "execute_result"
    }
   ],
   "source": [
    "#dropping or removing a column from a dataframe in pandas\n",
    "series.drop(['a', 'c']) # dropping or removing a column from a single dimension series with 0 axis in pandas"
   ]
  },
  {
   "cell_type": "code",
   "execution_count": 7,
   "id": "6b4f5ccc",
   "metadata": {},
   "outputs": [
    {
     "data": {
      "text/html": [
       "<div>\n",
       "<style scoped>\n",
       "    .dataframe tbody tr th:only-of-type {\n",
       "        vertical-align: middle;\n",
       "    }\n",
       "\n",
       "    .dataframe tbody tr th {\n",
       "        vertical-align: top;\n",
       "    }\n",
       "\n",
       "    .dataframe thead th {\n",
       "        text-align: right;\n",
       "    }\n",
       "</style>\n",
       "<table border=\"1\" class=\"dataframe\">\n",
       "  <thead>\n",
       "    <tr style=\"text-align: right;\">\n",
       "      <th></th>\n",
       "      <th>capital</th>\n",
       "      <th>population</th>\n",
       "    </tr>\n",
       "  </thead>\n",
       "  <tbody>\n",
       "    <tr>\n",
       "      <th>1</th>\n",
       "      <td>Islamabad</td>\n",
       "      <td>2166</td>\n",
       "    </tr>\n",
       "    <tr>\n",
       "      <th>2</th>\n",
       "      <td>New Delhi</td>\n",
       "      <td>1380</td>\n",
       "    </tr>\n",
       "    <tr>\n",
       "      <th>3</th>\n",
       "      <td>Dhaka</td>\n",
       "      <td>1660</td>\n",
       "    </tr>\n",
       "    <tr>\n",
       "      <th>4</th>\n",
       "      <td>Colombo</td>\n",
       "      <td>2150</td>\n",
       "    </tr>\n",
       "    <tr>\n",
       "      <th>5</th>\n",
       "      <td>Khatmandu</td>\n",
       "      <td>34255</td>\n",
       "    </tr>\n",
       "  </tbody>\n",
       "</table>\n",
       "</div>"
      ],
      "text/plain": [
       "     capital  population\n",
       "1  Islamabad        2166\n",
       "2  New Delhi        1380\n",
       "3      Dhaka        1660\n",
       "4    Colombo        2150\n",
       "5  Khatmandu       34255"
      ]
     },
     "execution_count": 7,
     "metadata": {},
     "output_type": "execute_result"
    }
   ],
   "source": [
    "# dropping or removing a column from a two dimension series with axis in pandas\n",
    "df.drop('country', axis=1) "
   ]
  },
  {
   "cell_type": "code",
   "execution_count": 8,
   "id": "541011cf",
   "metadata": {},
   "outputs": [
    {
     "data": {
      "text/html": [
       "<div>\n",
       "<style scoped>\n",
       "    .dataframe tbody tr th:only-of-type {\n",
       "        vertical-align: middle;\n",
       "    }\n",
       "\n",
       "    .dataframe tbody tr th {\n",
       "        vertical-align: top;\n",
       "    }\n",
       "\n",
       "    .dataframe thead th {\n",
       "        text-align: right;\n",
       "    }\n",
       "</style>\n",
       "<table border=\"1\" class=\"dataframe\">\n",
       "  <thead>\n",
       "    <tr style=\"text-align: right;\">\n",
       "      <th></th>\n",
       "      <th>country</th>\n",
       "      <th>capital</th>\n",
       "      <th>population</th>\n",
       "    </tr>\n",
       "  </thead>\n",
       "  <tbody>\n",
       "    <tr>\n",
       "      <th>1</th>\n",
       "      <td>Pakistan</td>\n",
       "      <td>Islamabad</td>\n",
       "      <td>2166</td>\n",
       "    </tr>\n",
       "    <tr>\n",
       "      <th>2</th>\n",
       "      <td>India</td>\n",
       "      <td>New Delhi</td>\n",
       "      <td>1380</td>\n",
       "    </tr>\n",
       "    <tr>\n",
       "      <th>3</th>\n",
       "      <td>Bangladesh</td>\n",
       "      <td>Dhaka</td>\n",
       "      <td>1660</td>\n",
       "    </tr>\n",
       "    <tr>\n",
       "      <th>4</th>\n",
       "      <td>Sri Lanka</td>\n",
       "      <td>Colombo</td>\n",
       "      <td>2150</td>\n",
       "    </tr>\n",
       "    <tr>\n",
       "      <th>5</th>\n",
       "      <td>Nepal</td>\n",
       "      <td>Khatmandu</td>\n",
       "      <td>34255</td>\n",
       "    </tr>\n",
       "  </tbody>\n",
       "</table>\n",
       "</div>"
      ],
      "text/plain": [
       "      country    capital  population\n",
       "1    Pakistan  Islamabad        2166\n",
       "2       India  New Delhi        1380\n",
       "3  Bangladesh      Dhaka        1660\n",
       "4   Sri Lanka    Colombo        2150\n",
       "5       Nepal  Khatmandu       34255"
      ]
     },
     "execution_count": 8,
     "metadata": {},
     "output_type": "execute_result"
    }
   ],
   "source": [
    "df"
   ]
  },
  {
   "cell_type": "markdown",
   "id": "4a26ed9b",
   "metadata": {},
   "source": [
    "# Asking pandas for help"
   ]
  },
  {
   "cell_type": "code",
   "execution_count": 9,
   "id": "0a6a13b5",
   "metadata": {},
   "outputs": [
    {
     "name": "stdout",
     "output_type": "stream",
     "text": [
      "Help on property:\n",
      "\n",
      "    Access a group of rows and columns by label(s) or a boolean array.\n",
      "\n",
      "    ``.loc[]`` is primarily label based, but may also be used with a\n",
      "    boolean array.\n",
      "\n",
      "    Allowed inputs are:\n",
      "\n",
      "    - A single label, e.g. ``5`` or ``'a'``, (note that ``5`` is\n",
      "      interpreted as a *label* of the index, and **never** as an\n",
      "      integer position along the index).\n",
      "    - A list or array of labels, e.g. ``['a', 'b', 'c']``.\n",
      "    - A slice object with labels, e.g. ``'a':'f'``.\n",
      "\n",
      "      .. warning:: Note that contrary to usual python slices, **both** the\n",
      "          start and the stop are included\n",
      "\n",
      "    - A boolean array of the same length as the axis being sliced,\n",
      "      e.g. ``[True, False, True]``.\n",
      "    - An alignable boolean Series. The index of the key will be aligned before\n",
      "      masking.\n",
      "    - An alignable Index. The Index of the returned selection will be the input.\n",
      "    - A ``callable`` function with one argument (the calling Series or\n",
      "      DataFrame) and that returns valid output for indexing (one of the above)\n",
      "\n",
      "    See more at :ref:`Selection by Label <indexing.label>`.\n",
      "\n",
      "    Raises\n",
      "    ------\n",
      "    KeyError\n",
      "        If any items are not found.\n",
      "    IndexingError\n",
      "        If an indexed key is passed and its index is unalignable to the frame index.\n",
      "\n",
      "    See Also\n",
      "    --------\n",
      "    DataFrame.at : Access a single value for a row/column label pair.\n",
      "    DataFrame.iloc : Access group of rows and columns by integer position(s).\n",
      "    DataFrame.xs : Returns a cross-section (row(s) or column(s)) from the\n",
      "                   Series/DataFrame.\n",
      "    Series.loc : Access group of values using labels.\n",
      "\n",
      "    Examples\n",
      "    --------\n",
      "    **Getting values**\n",
      "\n",
      "    >>> df = pd.DataFrame([[1, 2], [4, 5], [7, 8]],\n",
      "    ...                   index=['cobra', 'viper', 'sidewinder'],\n",
      "    ...                   columns=['max_speed', 'shield'])\n",
      "    >>> df\n",
      "                max_speed  shield\n",
      "    cobra               1       2\n",
      "    viper               4       5\n",
      "    sidewinder          7       8\n",
      "\n",
      "    Single label. Note this returns the row as a Series.\n",
      "\n",
      "    >>> df.loc['viper']\n",
      "    max_speed    4\n",
      "    shield       5\n",
      "    Name: viper, dtype: int64\n",
      "\n",
      "    List of labels. Note using ``[[]]`` returns a DataFrame.\n",
      "\n",
      "    >>> df.loc[['viper', 'sidewinder']]\n",
      "                max_speed  shield\n",
      "    viper               4       5\n",
      "    sidewinder          7       8\n",
      "\n",
      "    Single label for row and column\n",
      "\n",
      "    >>> df.loc['cobra', 'shield']\n",
      "    2\n",
      "\n",
      "    Slice with labels for row and single label for column. As mentioned\n",
      "    above, note that both the start and stop of the slice are included.\n",
      "\n",
      "    >>> df.loc['cobra':'viper', 'max_speed']\n",
      "    cobra    1\n",
      "    viper    4\n",
      "    Name: max_speed, dtype: int64\n",
      "\n",
      "    Boolean list with the same length as the row axis\n",
      "\n",
      "    >>> df.loc[[False, False, True]]\n",
      "                max_speed  shield\n",
      "    sidewinder          7       8\n",
      "\n",
      "    Alignable boolean Series:\n",
      "\n",
      "    >>> df.loc[pd.Series([False, True, False],\n",
      "    ...                  index=['viper', 'sidewinder', 'cobra'])]\n",
      "                         max_speed  shield\n",
      "    sidewinder          7       8\n",
      "\n",
      "    Index (same behavior as ``df.reindex``)\n",
      "\n",
      "    >>> df.loc[pd.Index([\"cobra\", \"viper\"], name=\"foo\")]\n",
      "           max_speed  shield\n",
      "    foo\n",
      "    cobra          1       2\n",
      "    viper          4       5\n",
      "\n",
      "    Conditional that returns a boolean Series\n",
      "\n",
      "    >>> df.loc[df['shield'] > 6]\n",
      "                max_speed  shield\n",
      "    sidewinder          7       8\n",
      "\n",
      "    Conditional that returns a boolean Series with column labels specified\n",
      "\n",
      "    >>> df.loc[df['shield'] > 6, ['max_speed']]\n",
      "                max_speed\n",
      "    sidewinder          7\n",
      "\n",
      "    Multiple conditional using ``&`` that returns a boolean Series\n",
      "\n",
      "    >>> df.loc[(df['max_speed'] > 1) & (df['shield'] < 8)]\n",
      "                max_speed  shield\n",
      "    viper          4       5\n",
      "\n",
      "    Multiple conditional using ``|`` that returns a boolean Series\n",
      "\n",
      "    >>> df.loc[(df['max_speed'] > 4) | (df['shield'] < 5)]\n",
      "                max_speed  shield\n",
      "    cobra               1       2\n",
      "    sidewinder          7       8\n",
      "\n",
      "    Please ensure that each condition is wrapped in parentheses ``()``.\n",
      "    See the :ref:`user guide<indexing.boolean>`\n",
      "    for more details and explanations of Boolean indexing.\n",
      "\n",
      "    .. note::\n",
      "        If you find yourself using 3 or more conditionals in ``.loc[]``,\n",
      "        consider using :ref:`advanced indexing<advanced.advanced_hierarchical>`.\n",
      "\n",
      "        See below for using ``.loc[]`` on MultiIndex DataFrames.\n",
      "\n",
      "    Callable that returns a boolean Series\n",
      "\n",
      "    >>> df.loc[lambda df: df['shield'] == 8]\n",
      "                max_speed  shield\n",
      "    sidewinder          7       8\n",
      "\n",
      "    **Setting values**\n",
      "\n",
      "    Set value for all items matching the list of labels\n",
      "\n",
      "    >>> df.loc[['viper', 'sidewinder'], ['shield']] = 50\n",
      "    >>> df\n",
      "                max_speed  shield\n",
      "    cobra               1       2\n",
      "    viper               4      50\n",
      "    sidewinder          7      50\n",
      "\n",
      "    Set value for an entire row\n",
      "\n",
      "    >>> df.loc['cobra'] = 10\n",
      "    >>> df\n",
      "                max_speed  shield\n",
      "    cobra              10      10\n",
      "    viper               4      50\n",
      "    sidewinder          7      50\n",
      "\n",
      "    Set value for an entire column\n",
      "\n",
      "    >>> df.loc[:, 'max_speed'] = 30\n",
      "    >>> df\n",
      "                max_speed  shield\n",
      "    cobra              30      10\n",
      "    viper              30      50\n",
      "    sidewinder         30      50\n",
      "\n",
      "    Set value for rows matching callable condition\n",
      "\n",
      "    >>> df.loc[df['shield'] > 35] = 0\n",
      "    >>> df\n",
      "                max_speed  shield\n",
      "    cobra              30      10\n",
      "    viper               0       0\n",
      "    sidewinder          0       0\n",
      "\n",
      "    Add value matching location\n",
      "\n",
      "    >>> df.loc[\"viper\", \"shield\"] += 5\n",
      "    >>> df\n",
      "                max_speed  shield\n",
      "    cobra              30      10\n",
      "    viper               0       5\n",
      "    sidewinder          0       0\n",
      "\n",
      "    Setting using a ``Series`` or a ``DataFrame`` sets the values matching the\n",
      "    index labels, not the index positions.\n",
      "\n",
      "    >>> shuffled_df = df.loc[[\"viper\", \"cobra\", \"sidewinder\"]]\n",
      "    >>> df.loc[:] += shuffled_df\n",
      "    >>> df\n",
      "                max_speed  shield\n",
      "    cobra              60      20\n",
      "    viper               0      10\n",
      "    sidewinder          0       0\n",
      "\n",
      "    **Getting values on a DataFrame with an index that has integer labels**\n",
      "\n",
      "    Another example using integers for the index\n",
      "\n",
      "    >>> df = pd.DataFrame([[1, 2], [4, 5], [7, 8]],\n",
      "    ...                   index=[7, 8, 9], columns=['max_speed', 'shield'])\n",
      "    >>> df\n",
      "       max_speed  shield\n",
      "    7          1       2\n",
      "    8          4       5\n",
      "    9          7       8\n",
      "\n",
      "    Slice with integer labels for rows. As mentioned above, note that both\n",
      "    the start and stop of the slice are included.\n",
      "\n",
      "    >>> df.loc[7:9]\n",
      "       max_speed  shield\n",
      "    7          1       2\n",
      "    8          4       5\n",
      "    9          7       8\n",
      "\n",
      "    **Getting values with a MultiIndex**\n",
      "\n",
      "    A number of examples using a DataFrame with a MultiIndex\n",
      "\n",
      "    >>> tuples = [\n",
      "    ...     ('cobra', 'mark i'), ('cobra', 'mark ii'),\n",
      "    ...     ('sidewinder', 'mark i'), ('sidewinder', 'mark ii'),\n",
      "    ...     ('viper', 'mark ii'), ('viper', 'mark iii')\n",
      "    ... ]\n",
      "    >>> index = pd.MultiIndex.from_tuples(tuples)\n",
      "    >>> values = [[12, 2], [0, 4], [10, 20],\n",
      "    ...           [1, 4], [7, 1], [16, 36]]\n",
      "    >>> df = pd.DataFrame(values, columns=['max_speed', 'shield'], index=index)\n",
      "    >>> df\n",
      "                         max_speed  shield\n",
      "    cobra      mark i           12       2\n",
      "               mark ii           0       4\n",
      "    sidewinder mark i           10      20\n",
      "               mark ii           1       4\n",
      "    viper      mark ii           7       1\n",
      "               mark iii         16      36\n",
      "\n",
      "    Single label. Note this returns a DataFrame with a single index.\n",
      "\n",
      "    >>> df.loc['cobra']\n",
      "             max_speed  shield\n",
      "    mark i          12       2\n",
      "    mark ii          0       4\n",
      "\n",
      "    Single index tuple. Note this returns a Series.\n",
      "\n",
      "    >>> df.loc[('cobra', 'mark ii')]\n",
      "    max_speed    0\n",
      "    shield       4\n",
      "    Name: (cobra, mark ii), dtype: int64\n",
      "\n",
      "    Single label for row and column. Similar to passing in a tuple, this\n",
      "    returns a Series.\n",
      "\n",
      "    >>> df.loc['cobra', 'mark i']\n",
      "    max_speed    12\n",
      "    shield        2\n",
      "    Name: (cobra, mark i), dtype: int64\n",
      "\n",
      "    Single tuple. Note using ``[[]]`` returns a DataFrame.\n",
      "\n",
      "    >>> df.loc[[('cobra', 'mark ii')]]\n",
      "                   max_speed  shield\n",
      "    cobra mark ii          0       4\n",
      "\n",
      "    Single tuple for the index with a single label for the column\n",
      "\n",
      "    >>> df.loc[('cobra', 'mark i'), 'shield']\n",
      "    2\n",
      "\n",
      "    Slice from index tuple to single label\n",
      "\n",
      "    >>> df.loc[('cobra', 'mark i'):'viper']\n",
      "                         max_speed  shield\n",
      "    cobra      mark i           12       2\n",
      "               mark ii           0       4\n",
      "    sidewinder mark i           10      20\n",
      "               mark ii           1       4\n",
      "    viper      mark ii           7       1\n",
      "               mark iii         16      36\n",
      "\n",
      "    Slice from index tuple to index tuple\n",
      "\n",
      "    >>> df.loc[('cobra', 'mark i'):('viper', 'mark ii')]\n",
      "                        max_speed  shield\n",
      "    cobra      mark i          12       2\n",
      "               mark ii          0       4\n",
      "    sidewinder mark i          10      20\n",
      "               mark ii          1       4\n",
      "    viper      mark ii          7       1\n",
      "\n",
      "    Please see the :ref:`user guide<advanced.advanced_hierarchical>`\n",
      "    for more details and explanations of advanced indexing.\n",
      "\n"
     ]
    }
   ],
   "source": [
    "#write help and in () write whatever topic you want to cover\n",
    "help(pd.Series.loc)"
   ]
  },
  {
   "cell_type": "markdown",
   "id": "98f709e3",
   "metadata": {},
   "source": [
    "# Sort and Rank"
   ]
  },
  {
   "cell_type": "code",
   "execution_count": 10,
   "id": "b42c77e6",
   "metadata": {},
   "outputs": [
    {
     "data": {
      "text/html": [
       "<div>\n",
       "<style scoped>\n",
       "    .dataframe tbody tr th:only-of-type {\n",
       "        vertical-align: middle;\n",
       "    }\n",
       "\n",
       "    .dataframe tbody tr th {\n",
       "        vertical-align: top;\n",
       "    }\n",
       "\n",
       "    .dataframe thead th {\n",
       "        text-align: right;\n",
       "    }\n",
       "</style>\n",
       "<table border=\"1\" class=\"dataframe\">\n",
       "  <thead>\n",
       "    <tr style=\"text-align: right;\">\n",
       "      <th></th>\n",
       "      <th>country</th>\n",
       "      <th>capital</th>\n",
       "      <th>population</th>\n",
       "    </tr>\n",
       "  </thead>\n",
       "  <tbody>\n",
       "    <tr>\n",
       "      <th>1</th>\n",
       "      <td>Pakistan</td>\n",
       "      <td>Islamabad</td>\n",
       "      <td>2166</td>\n",
       "    </tr>\n",
       "    <tr>\n",
       "      <th>2</th>\n",
       "      <td>India</td>\n",
       "      <td>New Delhi</td>\n",
       "      <td>1380</td>\n",
       "    </tr>\n",
       "    <tr>\n",
       "      <th>3</th>\n",
       "      <td>Bangladesh</td>\n",
       "      <td>Dhaka</td>\n",
       "      <td>1660</td>\n",
       "    </tr>\n",
       "    <tr>\n",
       "      <th>4</th>\n",
       "      <td>Sri Lanka</td>\n",
       "      <td>Colombo</td>\n",
       "      <td>2150</td>\n",
       "    </tr>\n",
       "    <tr>\n",
       "      <th>5</th>\n",
       "      <td>Nepal</td>\n",
       "      <td>Khatmandu</td>\n",
       "      <td>34255</td>\n",
       "    </tr>\n",
       "  </tbody>\n",
       "</table>\n",
       "</div>"
      ],
      "text/plain": [
       "      country    capital  population\n",
       "1    Pakistan  Islamabad        2166\n",
       "2       India  New Delhi        1380\n",
       "3  Bangladesh      Dhaka        1660\n",
       "4   Sri Lanka    Colombo        2150\n",
       "5       Nepal  Khatmandu       34255"
      ]
     },
     "execution_count": 10,
     "metadata": {},
     "output_type": "execute_result"
    }
   ],
   "source": [
    "df.sort_index()"
   ]
  },
  {
   "cell_type": "code",
   "execution_count": 11,
   "id": "a75446b8",
   "metadata": {},
   "outputs": [
    {
     "data": {
      "text/html": [
       "<div>\n",
       "<style scoped>\n",
       "    .dataframe tbody tr th:only-of-type {\n",
       "        vertical-align: middle;\n",
       "    }\n",
       "\n",
       "    .dataframe tbody tr th {\n",
       "        vertical-align: top;\n",
       "    }\n",
       "\n",
       "    .dataframe thead th {\n",
       "        text-align: right;\n",
       "    }\n",
       "</style>\n",
       "<table border=\"1\" class=\"dataframe\">\n",
       "  <thead>\n",
       "    <tr style=\"text-align: right;\">\n",
       "      <th></th>\n",
       "      <th>country</th>\n",
       "      <th>capital</th>\n",
       "      <th>population</th>\n",
       "    </tr>\n",
       "  </thead>\n",
       "  <tbody>\n",
       "    <tr>\n",
       "      <th>3</th>\n",
       "      <td>Bangladesh</td>\n",
       "      <td>Dhaka</td>\n",
       "      <td>1660</td>\n",
       "    </tr>\n",
       "    <tr>\n",
       "      <th>2</th>\n",
       "      <td>India</td>\n",
       "      <td>New Delhi</td>\n",
       "      <td>1380</td>\n",
       "    </tr>\n",
       "    <tr>\n",
       "      <th>5</th>\n",
       "      <td>Nepal</td>\n",
       "      <td>Khatmandu</td>\n",
       "      <td>34255</td>\n",
       "    </tr>\n",
       "    <tr>\n",
       "      <th>1</th>\n",
       "      <td>Pakistan</td>\n",
       "      <td>Islamabad</td>\n",
       "      <td>2166</td>\n",
       "    </tr>\n",
       "    <tr>\n",
       "      <th>4</th>\n",
       "      <td>Sri Lanka</td>\n",
       "      <td>Colombo</td>\n",
       "      <td>2150</td>\n",
       "    </tr>\n",
       "  </tbody>\n",
       "</table>\n",
       "</div>"
      ],
      "text/plain": [
       "      country    capital  population\n",
       "3  Bangladesh      Dhaka        1660\n",
       "2       India  New Delhi        1380\n",
       "5       Nepal  Khatmandu       34255\n",
       "1    Pakistan  Islamabad        2166\n",
       "4   Sri Lanka    Colombo        2150"
      ]
     },
     "execution_count": 11,
     "metadata": {},
     "output_type": "execute_result"
    }
   ],
   "source": [
    "df.sort_values(by= 'country')"
   ]
  },
  {
   "cell_type": "code",
   "execution_count": 12,
   "id": "8d414822",
   "metadata": {},
   "outputs": [
    {
     "data": {
      "text/html": [
       "<div>\n",
       "<style scoped>\n",
       "    .dataframe tbody tr th:only-of-type {\n",
       "        vertical-align: middle;\n",
       "    }\n",
       "\n",
       "    .dataframe tbody tr th {\n",
       "        vertical-align: top;\n",
       "    }\n",
       "\n",
       "    .dataframe thead th {\n",
       "        text-align: right;\n",
       "    }\n",
       "</style>\n",
       "<table border=\"1\" class=\"dataframe\">\n",
       "  <thead>\n",
       "    <tr style=\"text-align: right;\">\n",
       "      <th></th>\n",
       "      <th>country</th>\n",
       "      <th>capital</th>\n",
       "      <th>population</th>\n",
       "    </tr>\n",
       "  </thead>\n",
       "  <tbody>\n",
       "    <tr>\n",
       "      <th>1</th>\n",
       "      <td>4.0</td>\n",
       "      <td>3.0</td>\n",
       "      <td>4.0</td>\n",
       "    </tr>\n",
       "    <tr>\n",
       "      <th>2</th>\n",
       "      <td>2.0</td>\n",
       "      <td>5.0</td>\n",
       "      <td>1.0</td>\n",
       "    </tr>\n",
       "    <tr>\n",
       "      <th>3</th>\n",
       "      <td>1.0</td>\n",
       "      <td>2.0</td>\n",
       "      <td>2.0</td>\n",
       "    </tr>\n",
       "    <tr>\n",
       "      <th>4</th>\n",
       "      <td>5.0</td>\n",
       "      <td>1.0</td>\n",
       "      <td>3.0</td>\n",
       "    </tr>\n",
       "    <tr>\n",
       "      <th>5</th>\n",
       "      <td>3.0</td>\n",
       "      <td>4.0</td>\n",
       "      <td>5.0</td>\n",
       "    </tr>\n",
       "  </tbody>\n",
       "</table>\n",
       "</div>"
      ],
      "text/plain": [
       "   country  capital  population\n",
       "1      4.0      3.0         4.0\n",
       "2      2.0      5.0         1.0\n",
       "3      1.0      2.0         2.0\n",
       "4      5.0      1.0         3.0\n",
       "5      3.0      4.0         5.0"
      ]
     },
     "execution_count": 12,
     "metadata": {},
     "output_type": "execute_result"
    }
   ],
   "source": [
    "df.rank() \n",
    "#ranking the values in the dataframe by the 'rank' column in descending order based on the 'rank' column"
   ]
  },
  {
   "cell_type": "code",
   "execution_count": 13,
   "id": "421b92e2",
   "metadata": {},
   "outputs": [],
   "source": [
    "df_sorted = df.sort_values(by='population', ascending=False)\n"
   ]
  },
  {
   "cell_type": "code",
   "execution_count": 14,
   "id": "e47fbdb1",
   "metadata": {},
   "outputs": [
    {
     "data": {
      "text/html": [
       "<div>\n",
       "<style scoped>\n",
       "    .dataframe tbody tr th:only-of-type {\n",
       "        vertical-align: middle;\n",
       "    }\n",
       "\n",
       "    .dataframe tbody tr th {\n",
       "        vertical-align: top;\n",
       "    }\n",
       "\n",
       "    .dataframe thead th {\n",
       "        text-align: right;\n",
       "    }\n",
       "</style>\n",
       "<table border=\"1\" class=\"dataframe\">\n",
       "  <thead>\n",
       "    <tr style=\"text-align: right;\">\n",
       "      <th></th>\n",
       "      <th>country</th>\n",
       "      <th>capital</th>\n",
       "      <th>population</th>\n",
       "    </tr>\n",
       "  </thead>\n",
       "  <tbody>\n",
       "    <tr>\n",
       "      <th>5</th>\n",
       "      <td>Nepal</td>\n",
       "      <td>Khatmandu</td>\n",
       "      <td>34255</td>\n",
       "    </tr>\n",
       "    <tr>\n",
       "      <th>1</th>\n",
       "      <td>Pakistan</td>\n",
       "      <td>Islamabad</td>\n",
       "      <td>2166</td>\n",
       "    </tr>\n",
       "    <tr>\n",
       "      <th>4</th>\n",
       "      <td>Sri Lanka</td>\n",
       "      <td>Colombo</td>\n",
       "      <td>2150</td>\n",
       "    </tr>\n",
       "    <tr>\n",
       "      <th>3</th>\n",
       "      <td>Bangladesh</td>\n",
       "      <td>Dhaka</td>\n",
       "      <td>1660</td>\n",
       "    </tr>\n",
       "    <tr>\n",
       "      <th>2</th>\n",
       "      <td>India</td>\n",
       "      <td>New Delhi</td>\n",
       "      <td>1380</td>\n",
       "    </tr>\n",
       "  </tbody>\n",
       "</table>\n",
       "</div>"
      ],
      "text/plain": [
       "      country    capital  population\n",
       "5       Nepal  Khatmandu       34255\n",
       "1    Pakistan  Islamabad        2166\n",
       "4   Sri Lanka    Colombo        2150\n",
       "3  Bangladesh      Dhaka        1660\n",
       "2       India  New Delhi        1380"
      ]
     },
     "execution_count": 14,
     "metadata": {},
     "output_type": "execute_result"
    }
   ],
   "source": [
    "df_sorted"
   ]
  },
  {
   "cell_type": "code",
   "execution_count": 15,
   "id": "1d823f4c",
   "metadata": {},
   "outputs": [],
   "source": [
    "df.to_csv('example.csv')"
   ]
  },
  {
   "cell_type": "code",
   "execution_count": 16,
   "id": "95e8baf6",
   "metadata": {},
   "outputs": [
    {
     "data": {
      "text/html": [
       "<div>\n",
       "<style scoped>\n",
       "    .dataframe tbody tr th:only-of-type {\n",
       "        vertical-align: middle;\n",
       "    }\n",
       "\n",
       "    .dataframe tbody tr th {\n",
       "        vertical-align: top;\n",
       "    }\n",
       "\n",
       "    .dataframe thead th {\n",
       "        text-align: right;\n",
       "    }\n",
       "</style>\n",
       "<table border=\"1\" class=\"dataframe\">\n",
       "  <thead>\n",
       "    <tr style=\"text-align: right;\">\n",
       "      <th></th>\n",
       "      <th>Unnamed: 0</th>\n",
       "      <th>country</th>\n",
       "      <th>capital</th>\n",
       "      <th>population</th>\n",
       "    </tr>\n",
       "  </thead>\n",
       "  <tbody>\n",
       "    <tr>\n",
       "      <th>0</th>\n",
       "      <td>1</td>\n",
       "      <td>Pakistan</td>\n",
       "      <td>Islamabad</td>\n",
       "      <td>2166</td>\n",
       "    </tr>\n",
       "    <tr>\n",
       "      <th>1</th>\n",
       "      <td>2</td>\n",
       "      <td>India</td>\n",
       "      <td>New Delhi</td>\n",
       "      <td>1380</td>\n",
       "    </tr>\n",
       "    <tr>\n",
       "      <th>2</th>\n",
       "      <td>3</td>\n",
       "      <td>Bangladesh</td>\n",
       "      <td>Dhaka</td>\n",
       "      <td>1660</td>\n",
       "    </tr>\n",
       "    <tr>\n",
       "      <th>3</th>\n",
       "      <td>4</td>\n",
       "      <td>Sri Lanka</td>\n",
       "      <td>Colombo</td>\n",
       "      <td>2150</td>\n",
       "    </tr>\n",
       "    <tr>\n",
       "      <th>4</th>\n",
       "      <td>5</td>\n",
       "      <td>Nepal</td>\n",
       "      <td>Khatmandu</td>\n",
       "      <td>34255</td>\n",
       "    </tr>\n",
       "  </tbody>\n",
       "</table>\n",
       "</div>"
      ],
      "text/plain": [
       "   Unnamed: 0     country    capital  population\n",
       "0           1    Pakistan  Islamabad        2166\n",
       "1           2       India  New Delhi        1380\n",
       "2           3  Bangladesh      Dhaka        1660\n",
       "3           4   Sri Lanka    Colombo        2150\n",
       "4           5       Nepal  Khatmandu       34255"
      ]
     },
     "execution_count": 16,
     "metadata": {},
     "output_type": "execute_result"
    }
   ],
   "source": [
    "pd.read_csv('example.csv')"
   ]
  },
  {
   "cell_type": "code",
   "execution_count": 17,
   "id": "4ea1bc22",
   "metadata": {},
   "outputs": [],
   "source": [
    "df.to_excel('multi.xlsx', sheet_name='Hello')"
   ]
  },
  {
   "cell_type": "code",
   "execution_count": 18,
   "id": "2cb50f55",
   "metadata": {},
   "outputs": [
    {
     "data": {
      "text/html": [
       "<div>\n",
       "<style scoped>\n",
       "    .dataframe tbody tr th:only-of-type {\n",
       "        vertical-align: middle;\n",
       "    }\n",
       "\n",
       "    .dataframe tbody tr th {\n",
       "        vertical-align: top;\n",
       "    }\n",
       "\n",
       "    .dataframe thead th {\n",
       "        text-align: right;\n",
       "    }\n",
       "</style>\n",
       "<table border=\"1\" class=\"dataframe\">\n",
       "  <thead>\n",
       "    <tr style=\"text-align: right;\">\n",
       "      <th></th>\n",
       "      <th>Unnamed: 0</th>\n",
       "      <th>country</th>\n",
       "      <th>capital</th>\n",
       "      <th>population</th>\n",
       "    </tr>\n",
       "  </thead>\n",
       "  <tbody>\n",
       "    <tr>\n",
       "      <th>0</th>\n",
       "      <td>1</td>\n",
       "      <td>Pakistan</td>\n",
       "      <td>Islamabad</td>\n",
       "      <td>2166</td>\n",
       "    </tr>\n",
       "    <tr>\n",
       "      <th>1</th>\n",
       "      <td>2</td>\n",
       "      <td>India</td>\n",
       "      <td>New Delhi</td>\n",
       "      <td>1380</td>\n",
       "    </tr>\n",
       "    <tr>\n",
       "      <th>2</th>\n",
       "      <td>3</td>\n",
       "      <td>Bangladesh</td>\n",
       "      <td>Dhaka</td>\n",
       "      <td>1660</td>\n",
       "    </tr>\n",
       "    <tr>\n",
       "      <th>3</th>\n",
       "      <td>4</td>\n",
       "      <td>Sri Lanka</td>\n",
       "      <td>Colombo</td>\n",
       "      <td>2150</td>\n",
       "    </tr>\n",
       "    <tr>\n",
       "      <th>4</th>\n",
       "      <td>5</td>\n",
       "      <td>Nepal</td>\n",
       "      <td>Khatmandu</td>\n",
       "      <td>34255</td>\n",
       "    </tr>\n",
       "  </tbody>\n",
       "</table>\n",
       "</div>"
      ],
      "text/plain": [
       "   Unnamed: 0     country    capital  population\n",
       "0           1    Pakistan  Islamabad        2166\n",
       "1           2       India  New Delhi        1380\n",
       "2           3  Bangladesh      Dhaka        1660\n",
       "3           4   Sri Lanka    Colombo        2150\n",
       "4           5       Nepal  Khatmandu       34255"
      ]
     },
     "execution_count": 18,
     "metadata": {},
     "output_type": "execute_result"
    }
   ],
   "source": [
    "pd.read_excel('multi.xlsx') #to read an excel file"
   ]
  },
  {
   "cell_type": "code",
   "execution_count": 19,
   "id": "5d57eb70",
   "metadata": {},
   "outputs": [],
   "source": [
    "#to read a specific sheet\n",
    "xlsx=pd.read_excel('multi.xlsx')\n",
    "xlsx=pd.read_excel('multi.xlsx',sheet_name='Hello')"
   ]
  },
  {
   "cell_type": "code",
   "execution_count": 20,
   "id": "1f333a47",
   "metadata": {},
   "outputs": [
    {
     "name": "stdout",
     "output_type": "stream",
     "text": [
      "   Unnamed: 0     country    capital  population\n",
      "0           1    Pakistan  Islamabad        2166\n",
      "1           2       India  New Delhi        1380\n",
      "2           3  Bangladesh      Dhaka        1660\n",
      "3           4   Sri Lanka    Colombo        2150\n",
      "4           5       Nepal  Khatmandu       34255\n"
     ]
    }
   ],
   "source": [
    "print(xlsx)"
   ]
  },
  {
   "cell_type": "markdown",
   "id": "60fb6394",
   "metadata": {},
   "source": [
    "# Read and  Write to SQL Query or Database Table"
   ]
  },
  {
   "cell_type": "code",
   "execution_count": 21,
   "id": "17d8a248",
   "metadata": {},
   "outputs": [],
   "source": [
    "import sqlalchemy as sql"
   ]
  },
  {
   "cell_type": "code",
   "execution_count": 22,
   "id": "e8fb6e15",
   "metadata": {},
   "outputs": [
    {
     "name": "stdout",
     "output_type": "stream",
     "text": [
      "   id     name  age\n",
      "0   1    Alice   30\n",
      "1   2      Bob   25\n",
      "2   3  Charlie   35\n",
      "   id     name  age\n",
      "0   1    Alice   30\n",
      "1   2      Bob   25\n",
      "2   3  Charlie   35\n",
      "   id     name  age\n",
      "0   1    Alice   30\n",
      "1   2      Bob   25\n",
      "2   3  Charlie   35\n"
     ]
    }
   ],
   "source": [
    "from sqlalchemy import create_engine\n",
    "from sqlalchemy import TEXT\n",
    "from sqlalchemy import text\n",
    "\n",
    "# Create an in-memory SQLite database engine\n",
    "engine = create_engine('sqlite:///:memory:')\n",
    "\n",
    "with engine.connect() as conn:\n",
    "    with conn.begin():\n",
    "        conn.execute(text(\"\"\"\n",
    "            CREATE TABLE my_table (\n",
    "                id INTEGER PRIMARY KEY,\n",
    "                name TEXT,\n",
    "                age INTEGER\n",
    "            )\n",
    "        \"\"\"))\n",
    "        conn.execute(text(\"\"\"\n",
    "            INSERT INTO my_table (name, age) VALUES\n",
    "            ('Alice', 30),\n",
    "            ('Bob', 25),\n",
    "            ('Charlie', 35)\n",
    "        \"\"\"))\n",
    "\n",
    "# Now query the table using pandas\n",
    "df1 = pd.read_sql('SELECT * FROM my_table;', engine)\n",
    "print(df1)\n",
    "\n",
    "df2 = pd.read_sql_table('my_table', engine)\n",
    "print(df2)\n",
    "\n",
    "df3 = pd.read_sql_query('SELECT * FROM my_table;', engine)\n",
    "print(df3)"
   ]
  },
  {
   "cell_type": "code",
   "execution_count": 23,
   "id": "1f08bbce",
   "metadata": {},
   "outputs": [
    {
     "data": {
      "text/html": [
       "<div>\n",
       "<style scoped>\n",
       "    .dataframe tbody tr th:only-of-type {\n",
       "        vertical-align: middle;\n",
       "    }\n",
       "\n",
       "    .dataframe tbody tr th {\n",
       "        vertical-align: top;\n",
       "    }\n",
       "\n",
       "    .dataframe thead th {\n",
       "        text-align: right;\n",
       "    }\n",
       "</style>\n",
       "<table border=\"1\" class=\"dataframe\">\n",
       "  <thead>\n",
       "    <tr style=\"text-align: right;\">\n",
       "      <th></th>\n",
       "      <th>country</th>\n",
       "      <th>capital</th>\n",
       "      <th>population</th>\n",
       "    </tr>\n",
       "  </thead>\n",
       "  <tbody>\n",
       "    <tr>\n",
       "      <th>1</th>\n",
       "      <td>Pakistan</td>\n",
       "      <td>Islamabad</td>\n",
       "      <td>2166</td>\n",
       "    </tr>\n",
       "    <tr>\n",
       "      <th>2</th>\n",
       "      <td>India</td>\n",
       "      <td>New Delhi</td>\n",
       "      <td>1380</td>\n",
       "    </tr>\n",
       "    <tr>\n",
       "      <th>3</th>\n",
       "      <td>Bangladesh</td>\n",
       "      <td>Dhaka</td>\n",
       "      <td>1660</td>\n",
       "    </tr>\n",
       "    <tr>\n",
       "      <th>4</th>\n",
       "      <td>Sri Lanka</td>\n",
       "      <td>Colombo</td>\n",
       "      <td>2150</td>\n",
       "    </tr>\n",
       "    <tr>\n",
       "      <th>5</th>\n",
       "      <td>Nepal</td>\n",
       "      <td>Khatmandu</td>\n",
       "      <td>34255</td>\n",
       "    </tr>\n",
       "  </tbody>\n",
       "</table>\n",
       "</div>"
      ],
      "text/plain": [
       "      country    capital  population\n",
       "1    Pakistan  Islamabad        2166\n",
       "2       India  New Delhi        1380\n",
       "3  Bangladesh      Dhaka        1660\n",
       "4   Sri Lanka    Colombo        2150\n",
       "5       Nepal  Khatmandu       34255"
      ]
     },
     "execution_count": 23,
     "metadata": {},
     "output_type": "execute_result"
    }
   ],
   "source": [
    "df"
   ]
  },
  {
   "cell_type": "code",
   "execution_count": 24,
   "id": "f1caa090",
   "metadata": {},
   "outputs": [
    {
     "data": {
      "text/html": [
       "<div>\n",
       "<style scoped>\n",
       "    .dataframe tbody tr th:only-of-type {\n",
       "        vertical-align: middle;\n",
       "    }\n",
       "\n",
       "    .dataframe tbody tr th {\n",
       "        vertical-align: top;\n",
       "    }\n",
       "\n",
       "    .dataframe thead th {\n",
       "        text-align: right;\n",
       "    }\n",
       "</style>\n",
       "<table border=\"1\" class=\"dataframe\">\n",
       "  <thead>\n",
       "    <tr style=\"text-align: right;\">\n",
       "      <th></th>\n",
       "      <th>id</th>\n",
       "      <th>name</th>\n",
       "      <th>age</th>\n",
       "    </tr>\n",
       "  </thead>\n",
       "  <tbody>\n",
       "    <tr>\n",
       "      <th>0</th>\n",
       "      <td>1</td>\n",
       "      <td>Alice</td>\n",
       "      <td>30</td>\n",
       "    </tr>\n",
       "    <tr>\n",
       "      <th>1</th>\n",
       "      <td>2</td>\n",
       "      <td>Bob</td>\n",
       "      <td>25</td>\n",
       "    </tr>\n",
       "    <tr>\n",
       "      <th>2</th>\n",
       "      <td>3</td>\n",
       "      <td>Charlie</td>\n",
       "      <td>35</td>\n",
       "    </tr>\n",
       "  </tbody>\n",
       "</table>\n",
       "</div>"
      ],
      "text/plain": [
       "   id     name  age\n",
       "0   1    Alice   30\n",
       "1   2      Bob   25\n",
       "2   3  Charlie   35"
      ]
     },
     "execution_count": 24,
     "metadata": {},
     "output_type": "execute_result"
    }
   ],
   "source": [
    "df1"
   ]
  },
  {
   "cell_type": "code",
   "execution_count": 25,
   "id": "fe1e1238",
   "metadata": {},
   "outputs": [
    {
     "data": {
      "text/html": [
       "<div>\n",
       "<style scoped>\n",
       "    .dataframe tbody tr th:only-of-type {\n",
       "        vertical-align: middle;\n",
       "    }\n",
       "\n",
       "    .dataframe tbody tr th {\n",
       "        vertical-align: top;\n",
       "    }\n",
       "\n",
       "    .dataframe thead th {\n",
       "        text-align: right;\n",
       "    }\n",
       "</style>\n",
       "<table border=\"1\" class=\"dataframe\">\n",
       "  <thead>\n",
       "    <tr style=\"text-align: right;\">\n",
       "      <th></th>\n",
       "      <th>id</th>\n",
       "      <th>name</th>\n",
       "      <th>age</th>\n",
       "    </tr>\n",
       "  </thead>\n",
       "  <tbody>\n",
       "    <tr>\n",
       "      <th>0</th>\n",
       "      <td>1</td>\n",
       "      <td>Alice</td>\n",
       "      <td>30</td>\n",
       "    </tr>\n",
       "    <tr>\n",
       "      <th>1</th>\n",
       "      <td>2</td>\n",
       "      <td>Bob</td>\n",
       "      <td>25</td>\n",
       "    </tr>\n",
       "    <tr>\n",
       "      <th>2</th>\n",
       "      <td>3</td>\n",
       "      <td>Charlie</td>\n",
       "      <td>35</td>\n",
       "    </tr>\n",
       "  </tbody>\n",
       "</table>\n",
       "</div>"
      ],
      "text/plain": [
       "   id     name  age\n",
       "0   1    Alice   30\n",
       "1   2      Bob   25\n",
       "2   3  Charlie   35"
      ]
     },
     "execution_count": 25,
     "metadata": {},
     "output_type": "execute_result"
    }
   ],
   "source": [
    "df2"
   ]
  },
  {
   "cell_type": "code",
   "execution_count": 26,
   "id": "b3f1fe58",
   "metadata": {},
   "outputs": [
    {
     "data": {
      "text/html": [
       "<div>\n",
       "<style scoped>\n",
       "    .dataframe tbody tr th:only-of-type {\n",
       "        vertical-align: middle;\n",
       "    }\n",
       "\n",
       "    .dataframe tbody tr th {\n",
       "        vertical-align: top;\n",
       "    }\n",
       "\n",
       "    .dataframe thead th {\n",
       "        text-align: right;\n",
       "    }\n",
       "</style>\n",
       "<table border=\"1\" class=\"dataframe\">\n",
       "  <thead>\n",
       "    <tr style=\"text-align: right;\">\n",
       "      <th></th>\n",
       "      <th>id</th>\n",
       "      <th>name</th>\n",
       "      <th>age</th>\n",
       "    </tr>\n",
       "  </thead>\n",
       "  <tbody>\n",
       "    <tr>\n",
       "      <th>0</th>\n",
       "      <td>1</td>\n",
       "      <td>Alice</td>\n",
       "      <td>30</td>\n",
       "    </tr>\n",
       "    <tr>\n",
       "      <th>1</th>\n",
       "      <td>2</td>\n",
       "      <td>Bob</td>\n",
       "      <td>25</td>\n",
       "    </tr>\n",
       "    <tr>\n",
       "      <th>2</th>\n",
       "      <td>3</td>\n",
       "      <td>Charlie</td>\n",
       "      <td>35</td>\n",
       "    </tr>\n",
       "  </tbody>\n",
       "</table>\n",
       "</div>"
      ],
      "text/plain": [
       "   id     name  age\n",
       "0   1    Alice   30\n",
       "1   2      Bob   25\n",
       "2   3  Charlie   35"
      ]
     },
     "execution_count": 26,
     "metadata": {},
     "output_type": "execute_result"
    }
   ],
   "source": [
    "df3"
   ]
  },
  {
   "cell_type": "code",
   "execution_count": 27,
   "id": "6093cf50",
   "metadata": {},
   "outputs": [
    {
     "name": "stdout",
     "output_type": "stream",
     "text": [
      "   id     name  age\n",
      "0   1    Alice   30\n",
      "1   2      Bob   25\n",
      "2   3  Charlie   35\n"
     ]
    }
   ],
   "source": [
    "print (df3)"
   ]
  },
  {
   "cell_type": "markdown",
   "id": "66846b26",
   "metadata": {},
   "source": [
    "# GET something from a database"
   ]
  },
  {
   "cell_type": "code",
   "execution_count": 28,
   "id": "36665fce",
   "metadata": {},
   "outputs": [
    {
     "data": {
      "text/plain": [
       "5"
      ]
     },
     "execution_count": 28,
     "metadata": {},
     "output_type": "execute_result"
    }
   ],
   "source": [
    "series['b']"
   ]
  },
  {
   "cell_type": "code",
   "execution_count": 29,
   "id": "ab6b6368",
   "metadata": {},
   "outputs": [
    {
     "data": {
      "text/plain": [
       "1    Islamabad\n",
       "2    New Delhi\n",
       "3        Dhaka\n",
       "4      Colombo\n",
       "5    Khatmandu\n",
       "Name: capital, dtype: object"
      ]
     },
     "execution_count": 29,
     "metadata": {},
     "output_type": "execute_result"
    }
   ],
   "source": [
    "df['capital']"
   ]
  },
  {
   "cell_type": "code",
   "execution_count": 30,
   "id": "2a63b059",
   "metadata": {},
   "outputs": [
    {
     "data": {
      "text/html": [
       "<div>\n",
       "<style scoped>\n",
       "    .dataframe tbody tr th:only-of-type {\n",
       "        vertical-align: middle;\n",
       "    }\n",
       "\n",
       "    .dataframe tbody tr th {\n",
       "        vertical-align: top;\n",
       "    }\n",
       "\n",
       "    .dataframe thead th {\n",
       "        text-align: right;\n",
       "    }\n",
       "</style>\n",
       "<table border=\"1\" class=\"dataframe\">\n",
       "  <thead>\n",
       "    <tr style=\"text-align: right;\">\n",
       "      <th></th>\n",
       "      <th>country</th>\n",
       "      <th>capital</th>\n",
       "      <th>population</th>\n",
       "    </tr>\n",
       "  </thead>\n",
       "  <tbody>\n",
       "    <tr>\n",
       "      <th>2</th>\n",
       "      <td>India</td>\n",
       "      <td>New Delhi</td>\n",
       "      <td>1380</td>\n",
       "    </tr>\n",
       "    <tr>\n",
       "      <th>3</th>\n",
       "      <td>Bangladesh</td>\n",
       "      <td>Dhaka</td>\n",
       "      <td>1660</td>\n",
       "    </tr>\n",
       "    <tr>\n",
       "      <th>4</th>\n",
       "      <td>Sri Lanka</td>\n",
       "      <td>Colombo</td>\n",
       "      <td>2150</td>\n",
       "    </tr>\n",
       "    <tr>\n",
       "      <th>5</th>\n",
       "      <td>Nepal</td>\n",
       "      <td>Khatmandu</td>\n",
       "      <td>34255</td>\n",
       "    </tr>\n",
       "  </tbody>\n",
       "</table>\n",
       "</div>"
      ],
      "text/plain": [
       "      country    capital  population\n",
       "2       India  New Delhi        1380\n",
       "3  Bangladesh      Dhaka        1660\n",
       "4   Sri Lanka    Colombo        2150\n",
       "5       Nepal  Khatmandu       34255"
      ]
     },
     "execution_count": 30,
     "metadata": {},
     "output_type": "execute_result"
    }
   ],
   "source": [
    "#another way to do this is\n",
    "df[1:]"
   ]
  },
  {
   "cell_type": "markdown",
   "id": "c6fcc546",
   "metadata": {},
   "source": [
    "# Selecting, Boolean Indexing &  Setting\n"
   ]
  },
  {
   "cell_type": "code",
   "execution_count": 31,
   "id": "51ccd4b4",
   "metadata": {},
   "outputs": [
    {
     "name": "stderr",
     "output_type": "stream",
     "text": [
      "C:\\Users\\user\\AppData\\Local\\Temp\\ipykernel_2512\\2062860837.py:2: FutureWarning: Series.__getitem__ treating keys as positions is deprecated. In a future version, integer keys will always be treated as labels (consistent with DataFrame behavior). To access a value by position, use `ser.iloc[pos]`\n",
      "  df.iloc[0][1]\n"
     ]
    },
    {
     "data": {
      "text/plain": [
       "'Islamabad'"
      ]
     },
     "execution_count": 31,
     "metadata": {},
     "output_type": "execute_result"
    }
   ],
   "source": [
    "#by position\n",
    "df.iloc[0][1]"
   ]
  },
  {
   "cell_type": "code",
   "execution_count": 32,
   "id": "617da5c4",
   "metadata": {},
   "outputs": [
    {
     "data": {
      "text/plain": [
       "'Islamabad'"
      ]
     },
     "execution_count": 32,
     "metadata": {},
     "output_type": "execute_result"
    }
   ],
   "source": [
    "#another way to do it\n",
    "df.iloc[0, 1]"
   ]
  },
  {
   "cell_type": "code",
   "execution_count": 33,
   "id": "a8d0bf05",
   "metadata": {},
   "outputs": [
    {
     "data": {
      "text/plain": [
       "'Pakistan'"
      ]
     },
     "execution_count": 33,
     "metadata": {},
     "output_type": "execute_result"
    }
   ],
   "source": [
    "#by label\n",
    "df.loc[1,'country']"
   ]
  },
  {
   "cell_type": "code",
   "execution_count": 34,
   "id": "30f974cc",
   "metadata": {},
   "outputs": [
    {
     "data": {
      "text/plain": [
       "'Islamabad'"
      ]
     },
     "execution_count": 34,
     "metadata": {},
     "output_type": "execute_result"
    }
   ],
   "source": [
    "#by position/label\n",
    "\n",
    "df.iloc[2]\n",
    "df.loc[1, 'capital']"
   ]
  },
  {
   "cell_type": "code",
   "execution_count": 35,
   "id": "2ba3431a",
   "metadata": {},
   "outputs": [
    {
     "data": {
      "text/plain": [
       "b    5\n",
       "c    6\n",
       "e    5\n",
       "dtype: int64"
      ]
     },
     "execution_count": 35,
     "metadata": {},
     "output_type": "execute_result"
    }
   ],
   "source": [
    "#boolean indexing\n",
    "\n",
    "series[series>4] #for values greater than 4"
   ]
  },
  {
   "cell_type": "code",
   "execution_count": 36,
   "id": "56e8d0a0",
   "metadata": {},
   "outputs": [
    {
     "data": {
      "text/plain": [
       "a   -3\n",
       "b    5\n",
       "c    6\n",
       "d    4\n",
       "e    5\n",
       "dtype: int64"
      ]
     },
     "execution_count": 36,
     "metadata": {},
     "output_type": "execute_result"
    }
   ],
   "source": [
    "series\n"
   ]
  },
  {
   "cell_type": "code",
   "execution_count": 37,
   "id": "c52720d3",
   "metadata": {},
   "outputs": [
    {
     "data": {
      "text/html": [
       "<div>\n",
       "<style scoped>\n",
       "    .dataframe tbody tr th:only-of-type {\n",
       "        vertical-align: middle;\n",
       "    }\n",
       "\n",
       "    .dataframe tbody tr th {\n",
       "        vertical-align: top;\n",
       "    }\n",
       "\n",
       "    .dataframe thead th {\n",
       "        text-align: right;\n",
       "    }\n",
       "</style>\n",
       "<table border=\"1\" class=\"dataframe\">\n",
       "  <thead>\n",
       "    <tr style=\"text-align: right;\">\n",
       "      <th></th>\n",
       "      <th>country</th>\n",
       "      <th>capital</th>\n",
       "      <th>population</th>\n",
       "    </tr>\n",
       "  </thead>\n",
       "  <tbody>\n",
       "    <tr>\n",
       "      <th>1</th>\n",
       "      <td>Pakistan</td>\n",
       "      <td>Islamabad</td>\n",
       "      <td>2166</td>\n",
       "    </tr>\n",
       "    <tr>\n",
       "      <th>2</th>\n",
       "      <td>India</td>\n",
       "      <td>New Delhi</td>\n",
       "      <td>1380</td>\n",
       "    </tr>\n",
       "    <tr>\n",
       "      <th>3</th>\n",
       "      <td>Bangladesh</td>\n",
       "      <td>Dhaka</td>\n",
       "      <td>1660</td>\n",
       "    </tr>\n",
       "    <tr>\n",
       "      <th>4</th>\n",
       "      <td>Sri Lanka</td>\n",
       "      <td>Colombo</td>\n",
       "      <td>2150</td>\n",
       "    </tr>\n",
       "    <tr>\n",
       "      <th>5</th>\n",
       "      <td>Nepal</td>\n",
       "      <td>Khatmandu</td>\n",
       "      <td>34255</td>\n",
       "    </tr>\n",
       "  </tbody>\n",
       "</table>\n",
       "</div>"
      ],
      "text/plain": [
       "      country    capital  population\n",
       "1    Pakistan  Islamabad        2166\n",
       "2       India  New Delhi        1380\n",
       "3  Bangladesh      Dhaka        1660\n",
       "4   Sri Lanka    Colombo        2150\n",
       "5       Nepal  Khatmandu       34255"
      ]
     },
     "execution_count": 37,
     "metadata": {},
     "output_type": "execute_result"
    }
   ],
   "source": [
    "df"
   ]
  },
  {
   "cell_type": "code",
   "execution_count": 38,
   "id": "9a633779",
   "metadata": {},
   "outputs": [
    {
     "data": {
      "text/html": [
       "<div>\n",
       "<style scoped>\n",
       "    .dataframe tbody tr th:only-of-type {\n",
       "        vertical-align: middle;\n",
       "    }\n",
       "\n",
       "    .dataframe tbody tr th {\n",
       "        vertical-align: top;\n",
       "    }\n",
       "\n",
       "    .dataframe thead th {\n",
       "        text-align: right;\n",
       "    }\n",
       "</style>\n",
       "<table border=\"1\" class=\"dataframe\">\n",
       "  <thead>\n",
       "    <tr style=\"text-align: right;\">\n",
       "      <th></th>\n",
       "      <th>country</th>\n",
       "      <th>capital</th>\n",
       "      <th>population</th>\n",
       "    </tr>\n",
       "  </thead>\n",
       "  <tbody>\n",
       "    <tr>\n",
       "      <th>1</th>\n",
       "      <td>Pakistan</td>\n",
       "      <td>Islamabad</td>\n",
       "      <td>2166</td>\n",
       "    </tr>\n",
       "    <tr>\n",
       "      <th>3</th>\n",
       "      <td>Bangladesh</td>\n",
       "      <td>Dhaka</td>\n",
       "      <td>1660</td>\n",
       "    </tr>\n",
       "    <tr>\n",
       "      <th>4</th>\n",
       "      <td>Sri Lanka</td>\n",
       "      <td>Colombo</td>\n",
       "      <td>2150</td>\n",
       "    </tr>\n",
       "    <tr>\n",
       "      <th>5</th>\n",
       "      <td>Nepal</td>\n",
       "      <td>Khatmandu</td>\n",
       "      <td>34255</td>\n",
       "    </tr>\n",
       "  </tbody>\n",
       "</table>\n",
       "</div>"
      ],
      "text/plain": [
       "      country    capital  population\n",
       "1    Pakistan  Islamabad        2166\n",
       "3  Bangladesh      Dhaka        1660\n",
       "4   Sri Lanka    Colombo        2150\n",
       "5       Nepal  Khatmandu       34255"
      ]
     },
     "execution_count": 38,
     "metadata": {},
     "output_type": "execute_result"
    }
   ],
   "source": [
    "df[df['population']>1500]"
   ]
  },
  {
   "cell_type": "markdown",
   "id": "fb9432ee",
   "metadata": {},
   "source": [
    "# Retrieving Series/DataFrame Information"
   ]
  },
  {
   "cell_type": "code",
   "execution_count": 39,
   "id": "d4a2663b",
   "metadata": {},
   "outputs": [
    {
     "data": {
      "text/plain": [
       "(5, 3)"
      ]
     },
     "execution_count": 39,
     "metadata": {},
     "output_type": "execute_result"
    }
   ],
   "source": [
    "df.shape"
   ]
  },
  {
   "cell_type": "code",
   "execution_count": 40,
   "id": "e59a0133",
   "metadata": {},
   "outputs": [
    {
     "data": {
      "text/plain": [
       "Index([1, 2, 3, 4, 5], dtype='int64')"
      ]
     },
     "execution_count": 40,
     "metadata": {},
     "output_type": "execute_result"
    }
   ],
   "source": [
    "df.index"
   ]
  },
  {
   "cell_type": "code",
   "execution_count": 41,
   "id": "e90b1bc7",
   "metadata": {},
   "outputs": [
    {
     "data": {
      "text/plain": [
       "Index(['country', 'capital', 'population'], dtype='object')"
      ]
     },
     "execution_count": 41,
     "metadata": {},
     "output_type": "execute_result"
    }
   ],
   "source": [
    "df.columns"
   ]
  },
  {
   "cell_type": "code",
   "execution_count": 42,
   "id": "926bf68e",
   "metadata": {},
   "outputs": [
    {
     "data": {
      "text/plain": [
       "<bound method DataFrame.info of       country    capital  population\n",
       "1    Pakistan  Islamabad        2166\n",
       "2       India  New Delhi        1380\n",
       "3  Bangladesh      Dhaka        1660\n",
       "4   Sri Lanka    Colombo        2150\n",
       "5       Nepal  Khatmandu       34255>"
      ]
     },
     "execution_count": 42,
     "metadata": {},
     "output_type": "execute_result"
    }
   ],
   "source": [
    "df.info"
   ]
  },
  {
   "cell_type": "code",
   "execution_count": 43,
   "id": "6798fcbf",
   "metadata": {},
   "outputs": [
    {
     "data": {
      "text/plain": [
       "<bound method DataFrame.count of       country    capital  population\n",
       "1    Pakistan  Islamabad        2166\n",
       "2       India  New Delhi        1380\n",
       "3  Bangladesh      Dhaka        1660\n",
       "4   Sri Lanka    Colombo        2150\n",
       "5       Nepal  Khatmandu       34255>"
      ]
     },
     "execution_count": 43,
     "metadata": {},
     "output_type": "execute_result"
    }
   ],
   "source": [
    "df.count"
   ]
  },
  {
   "cell_type": "code",
   "execution_count": 44,
   "id": "f4a67869",
   "metadata": {},
   "outputs": [
    {
     "data": {
      "text/plain": [
       "1      Pakistan\n",
       "2         India\n",
       "3    Bangladesh\n",
       "4     Sri Lanka\n",
       "5         Nepal\n",
       "Name: country, dtype: object"
      ]
     },
     "execution_count": 44,
     "metadata": {},
     "output_type": "execute_result"
    }
   ],
   "source": [
    "df.country"
   ]
  },
  {
   "cell_type": "code",
   "execution_count": 45,
   "id": "11fa6a3c",
   "metadata": {},
   "outputs": [
    {
     "data": {
      "text/plain": [
       "3"
      ]
     },
     "execution_count": 45,
     "metadata": {},
     "output_type": "execute_result"
    }
   ],
   "source": [
    "df.index[2]"
   ]
  },
  {
   "cell_type": "code",
   "execution_count": 46,
   "id": "23f72d6a",
   "metadata": {},
   "outputs": [
    {
     "data": {
      "text/plain": [
       "country         PakistanIndiaBangladeshSri LankaNepal\n",
       "capital       IslamabadNew DelhiDhakaColomboKhatmandu\n",
       "population                                      41611\n",
       "dtype: object"
      ]
     },
     "execution_count": 46,
     "metadata": {},
     "output_type": "execute_result"
    }
   ],
   "source": [
    "df.sum()"
   ]
  },
  {
   "cell_type": "code",
   "execution_count": 47,
   "id": "49f2dd38",
   "metadata": {},
   "outputs": [
    {
     "data": {
      "text/html": [
       "<div>\n",
       "<style scoped>\n",
       "    .dataframe tbody tr th:only-of-type {\n",
       "        vertical-align: middle;\n",
       "    }\n",
       "\n",
       "    .dataframe tbody tr th {\n",
       "        vertical-align: top;\n",
       "    }\n",
       "\n",
       "    .dataframe thead th {\n",
       "        text-align: right;\n",
       "    }\n",
       "</style>\n",
       "<table border=\"1\" class=\"dataframe\">\n",
       "  <thead>\n",
       "    <tr style=\"text-align: right;\">\n",
       "      <th></th>\n",
       "      <th>country</th>\n",
       "      <th>capital</th>\n",
       "      <th>population</th>\n",
       "    </tr>\n",
       "  </thead>\n",
       "  <tbody>\n",
       "    <tr>\n",
       "      <th>1</th>\n",
       "      <td>Pakistan</td>\n",
       "      <td>Islamabad</td>\n",
       "      <td>2166</td>\n",
       "    </tr>\n",
       "    <tr>\n",
       "      <th>2</th>\n",
       "      <td>Pakistan</td>\n",
       "      <td>New Delhi</td>\n",
       "      <td>2166</td>\n",
       "    </tr>\n",
       "    <tr>\n",
       "      <th>3</th>\n",
       "      <td>Pakistan</td>\n",
       "      <td>New Delhi</td>\n",
       "      <td>2166</td>\n",
       "    </tr>\n",
       "    <tr>\n",
       "      <th>4</th>\n",
       "      <td>Sri Lanka</td>\n",
       "      <td>New Delhi</td>\n",
       "      <td>2166</td>\n",
       "    </tr>\n",
       "    <tr>\n",
       "      <th>5</th>\n",
       "      <td>Sri Lanka</td>\n",
       "      <td>New Delhi</td>\n",
       "      <td>34255</td>\n",
       "    </tr>\n",
       "  </tbody>\n",
       "</table>\n",
       "</div>"
      ],
      "text/plain": [
       "     country    capital  population\n",
       "1   Pakistan  Islamabad        2166\n",
       "2   Pakistan  New Delhi        2166\n",
       "3   Pakistan  New Delhi        2166\n",
       "4  Sri Lanka  New Delhi        2166\n",
       "5  Sri Lanka  New Delhi       34255"
      ]
     },
     "execution_count": 47,
     "metadata": {},
     "output_type": "execute_result"
    }
   ],
   "source": [
    "df.cummax() #cummulative sum of max values"
   ]
  },
  {
   "cell_type": "code",
   "execution_count": 48,
   "id": "ed4d9ec2",
   "metadata": {},
   "outputs": [
    {
     "data": {
      "text/plain": [
       "[population    1380\n",
       " dtype: int64,\n",
       " population    34255\n",
       " dtype: int64]"
      ]
     },
     "execution_count": 48,
     "metadata": {},
     "output_type": "execute_result"
    }
   ],
   "source": [
    "numeric_df=df.select_dtypes(include='number')\n",
    "result= [numeric_df.min(),\n",
    "        numeric_df.max()]\n",
    "result\n"
   ]
  },
  {
   "cell_type": "code",
   "execution_count": 49,
   "id": "e3e93129",
   "metadata": {},
   "outputs": [
    {
     "data": {
      "text/html": [
       "<div>\n",
       "<style scoped>\n",
       "    .dataframe tbody tr th:only-of-type {\n",
       "        vertical-align: middle;\n",
       "    }\n",
       "\n",
       "    .dataframe tbody tr th {\n",
       "        vertical-align: top;\n",
       "    }\n",
       "\n",
       "    .dataframe thead th {\n",
       "        text-align: right;\n",
       "    }\n",
       "</style>\n",
       "<table border=\"1\" class=\"dataframe\">\n",
       "  <thead>\n",
       "    <tr style=\"text-align: right;\">\n",
       "      <th></th>\n",
       "      <th>population</th>\n",
       "    </tr>\n",
       "  </thead>\n",
       "  <tbody>\n",
       "    <tr>\n",
       "      <th>count</th>\n",
       "      <td>5.000000</td>\n",
       "    </tr>\n",
       "    <tr>\n",
       "      <th>mean</th>\n",
       "      <td>8322.200000</td>\n",
       "    </tr>\n",
       "    <tr>\n",
       "      <th>std</th>\n",
       "      <td>14500.724265</td>\n",
       "    </tr>\n",
       "    <tr>\n",
       "      <th>min</th>\n",
       "      <td>1380.000000</td>\n",
       "    </tr>\n",
       "    <tr>\n",
       "      <th>25%</th>\n",
       "      <td>1660.000000</td>\n",
       "    </tr>\n",
       "    <tr>\n",
       "      <th>50%</th>\n",
       "      <td>2150.000000</td>\n",
       "    </tr>\n",
       "    <tr>\n",
       "      <th>75%</th>\n",
       "      <td>2166.000000</td>\n",
       "    </tr>\n",
       "    <tr>\n",
       "      <th>max</th>\n",
       "      <td>34255.000000</td>\n",
       "    </tr>\n",
       "  </tbody>\n",
       "</table>\n",
       "</div>"
      ],
      "text/plain": [
       "         population\n",
       "count      5.000000\n",
       "mean    8322.200000\n",
       "std    14500.724265\n",
       "min     1380.000000\n",
       "25%     1660.000000\n",
       "50%     2150.000000\n",
       "75%     2166.000000\n",
       "max    34255.000000"
      ]
     },
     "execution_count": 49,
     "metadata": {},
     "output_type": "execute_result"
    }
   ],
   "source": [
    "df.describe()"
   ]
  },
  {
   "cell_type": "code",
   "execution_count": 50,
   "id": "fdd0a3b8",
   "metadata": {},
   "outputs": [
    {
     "data": {
      "text/plain": [
       "8322.2"
      ]
     },
     "execution_count": 50,
     "metadata": {},
     "output_type": "execute_result"
    }
   ],
   "source": [
    "df['population'].mean()"
   ]
  },
  {
   "cell_type": "markdown",
   "id": "c65904ab",
   "metadata": {},
   "source": [
    "# Applying functions"
   ]
  },
  {
   "cell_type": "code",
   "execution_count": 51,
   "id": "a6963703",
   "metadata": {},
   "outputs": [],
   "source": [
    "f = lambda x: x*2"
   ]
  },
  {
   "cell_type": "code",
   "execution_count": 52,
   "id": "84c6ddcd",
   "metadata": {},
   "outputs": [
    {
     "data": {
      "text/html": [
       "<div>\n",
       "<style scoped>\n",
       "    .dataframe tbody tr th:only-of-type {\n",
       "        vertical-align: middle;\n",
       "    }\n",
       "\n",
       "    .dataframe tbody tr th {\n",
       "        vertical-align: top;\n",
       "    }\n",
       "\n",
       "    .dataframe thead th {\n",
       "        text-align: right;\n",
       "    }\n",
       "</style>\n",
       "<table border=\"1\" class=\"dataframe\">\n",
       "  <thead>\n",
       "    <tr style=\"text-align: right;\">\n",
       "      <th></th>\n",
       "      <th>country</th>\n",
       "      <th>capital</th>\n",
       "      <th>population</th>\n",
       "    </tr>\n",
       "  </thead>\n",
       "  <tbody>\n",
       "    <tr>\n",
       "      <th>1</th>\n",
       "      <td>PakistanPakistan</td>\n",
       "      <td>IslamabadIslamabad</td>\n",
       "      <td>4332</td>\n",
       "    </tr>\n",
       "    <tr>\n",
       "      <th>2</th>\n",
       "      <td>IndiaIndia</td>\n",
       "      <td>New DelhiNew Delhi</td>\n",
       "      <td>2760</td>\n",
       "    </tr>\n",
       "    <tr>\n",
       "      <th>3</th>\n",
       "      <td>BangladeshBangladesh</td>\n",
       "      <td>DhakaDhaka</td>\n",
       "      <td>3320</td>\n",
       "    </tr>\n",
       "    <tr>\n",
       "      <th>4</th>\n",
       "      <td>Sri LankaSri Lanka</td>\n",
       "      <td>ColomboColombo</td>\n",
       "      <td>4300</td>\n",
       "    </tr>\n",
       "    <tr>\n",
       "      <th>5</th>\n",
       "      <td>NepalNepal</td>\n",
       "      <td>KhatmanduKhatmandu</td>\n",
       "      <td>68510</td>\n",
       "    </tr>\n",
       "  </tbody>\n",
       "</table>\n",
       "</div>"
      ],
      "text/plain": [
       "                country             capital  population\n",
       "1      PakistanPakistan  IslamabadIslamabad        4332\n",
       "2            IndiaIndia  New DelhiNew Delhi        2760\n",
       "3  BangladeshBangladesh          DhakaDhaka        3320\n",
       "4    Sri LankaSri Lanka      ColomboColombo        4300\n",
       "5            NepalNepal  KhatmanduKhatmandu       68510"
      ]
     },
     "execution_count": 52,
     "metadata": {},
     "output_type": "execute_result"
    }
   ],
   "source": [
    "df.apply(f)"
   ]
  },
  {
   "cell_type": "code",
   "execution_count": 53,
   "id": "37c0fe40",
   "metadata": {},
   "outputs": [
    {
     "name": "stderr",
     "output_type": "stream",
     "text": [
      "C:\\Users\\user\\AppData\\Local\\Temp\\ipykernel_2512\\2173204005.py:1: FutureWarning: DataFrame.applymap has been deprecated. Use DataFrame.map instead.\n",
      "  df.applymap(f)\n"
     ]
    },
    {
     "data": {
      "text/html": [
       "<div>\n",
       "<style scoped>\n",
       "    .dataframe tbody tr th:only-of-type {\n",
       "        vertical-align: middle;\n",
       "    }\n",
       "\n",
       "    .dataframe tbody tr th {\n",
       "        vertical-align: top;\n",
       "    }\n",
       "\n",
       "    .dataframe thead th {\n",
       "        text-align: right;\n",
       "    }\n",
       "</style>\n",
       "<table border=\"1\" class=\"dataframe\">\n",
       "  <thead>\n",
       "    <tr style=\"text-align: right;\">\n",
       "      <th></th>\n",
       "      <th>country</th>\n",
       "      <th>capital</th>\n",
       "      <th>population</th>\n",
       "    </tr>\n",
       "  </thead>\n",
       "  <tbody>\n",
       "    <tr>\n",
       "      <th>1</th>\n",
       "      <td>PakistanPakistan</td>\n",
       "      <td>IslamabadIslamabad</td>\n",
       "      <td>4332</td>\n",
       "    </tr>\n",
       "    <tr>\n",
       "      <th>2</th>\n",
       "      <td>IndiaIndia</td>\n",
       "      <td>New DelhiNew Delhi</td>\n",
       "      <td>2760</td>\n",
       "    </tr>\n",
       "    <tr>\n",
       "      <th>3</th>\n",
       "      <td>BangladeshBangladesh</td>\n",
       "      <td>DhakaDhaka</td>\n",
       "      <td>3320</td>\n",
       "    </tr>\n",
       "    <tr>\n",
       "      <th>4</th>\n",
       "      <td>Sri LankaSri Lanka</td>\n",
       "      <td>ColomboColombo</td>\n",
       "      <td>4300</td>\n",
       "    </tr>\n",
       "    <tr>\n",
       "      <th>5</th>\n",
       "      <td>NepalNepal</td>\n",
       "      <td>KhatmanduKhatmandu</td>\n",
       "      <td>68510</td>\n",
       "    </tr>\n",
       "  </tbody>\n",
       "</table>\n",
       "</div>"
      ],
      "text/plain": [
       "                country             capital  population\n",
       "1      PakistanPakistan  IslamabadIslamabad        4332\n",
       "2            IndiaIndia  New DelhiNew Delhi        2760\n",
       "3  BangladeshBangladesh          DhakaDhaka        3320\n",
       "4    Sri LankaSri Lanka      ColomboColombo        4300\n",
       "5            NepalNepal  KhatmanduKhatmandu       68510"
      ]
     },
     "execution_count": 53,
     "metadata": {},
     "output_type": "execute_result"
    }
   ],
   "source": [
    "df.applymap(f)"
   ]
  },
  {
   "cell_type": "code",
   "execution_count": null,
   "id": "cd5fdbcd",
   "metadata": {},
   "outputs": [],
   "source": []
  }
 ],
 "metadata": {
  "kernelspec": {
   "display_name": "base",
   "language": "python",
   "name": "python3"
  },
  "language_info": {
   "codemirror_mode": {
    "name": "ipython",
    "version": 3
   },
   "file_extension": ".py",
   "mimetype": "text/x-python",
   "name": "python",
   "nbconvert_exporter": "python",
   "pygments_lexer": "ipython3",
   "version": "3.12.4"
  }
 },
 "nbformat": 4,
 "nbformat_minor": 5
}
