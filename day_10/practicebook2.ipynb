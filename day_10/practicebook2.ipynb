{
 "cells": [
  {
   "cell_type": "markdown",
   "id": "1865a96d",
   "metadata": {},
   "source": [
    "# DATA WRANGLING\n",
    "by Kanwar Hamza Shuja"
   ]
  },
  {
   "cell_type": "markdown",
   "id": "39e5d768",
   "metadata": {},
   "source": [
    "# Creating dataframe"
   ]
  },
  {
   "cell_type": "code",
   "execution_count": 41,
   "id": "6b1e06ec",
   "metadata": {},
   "outputs": [],
   "source": [
    "import pandas as pd\n",
    "import numpy as np\n",
    "import matplotlib.pyplot as plt\n",
    "import seaborn as sns\n",
    "\n",
    "df = pd.DataFrame(\n",
    "{\"a\" : [4, 5, 6], \n",
    "\"b\" : [7, 8, 9], \n",
    "\"c\" : [10, 11, 12]},    \n",
    "index = [1, 2, 3])"
   ]
  },
  {
   "cell_type": "code",
   "execution_count": 42,
   "id": "432a21a4",
   "metadata": {},
   "outputs": [
    {
     "data": {
      "application/vnd.microsoft.datawrangler.viewer.v0+json": {
       "columns": [
        {
         "name": "index",
         "rawType": "int64",
         "type": "integer"
        },
        {
         "name": "a",
         "rawType": "int64",
         "type": "integer"
        },
        {
         "name": "b",
         "rawType": "int64",
         "type": "integer"
        },
        {
         "name": "c",
         "rawType": "int64",
         "type": "integer"
        }
       ],
       "conversionMethod": "pd.DataFrame",
       "ref": "5460592d-fd7f-4cf2-8a08-68b2fd424e7e",
       "rows": [
        [
         "1",
         "4",
         "7",
         "10"
        ],
        [
         "2",
         "5",
         "8",
         "11"
        ],
        [
         "3",
         "6",
         "9",
         "12"
        ]
       ],
       "shape": {
        "columns": 3,
        "rows": 3
       }
      },
      "text/html": [
       "<div>\n",
       "<style scoped>\n",
       "    .dataframe tbody tr th:only-of-type {\n",
       "        vertical-align: middle;\n",
       "    }\n",
       "\n",
       "    .dataframe tbody tr th {\n",
       "        vertical-align: top;\n",
       "    }\n",
       "\n",
       "    .dataframe thead th {\n",
       "        text-align: right;\n",
       "    }\n",
       "</style>\n",
       "<table border=\"1\" class=\"dataframe\">\n",
       "  <thead>\n",
       "    <tr style=\"text-align: right;\">\n",
       "      <th></th>\n",
       "      <th>a</th>\n",
       "      <th>b</th>\n",
       "      <th>c</th>\n",
       "    </tr>\n",
       "  </thead>\n",
       "  <tbody>\n",
       "    <tr>\n",
       "      <th>1</th>\n",
       "      <td>4</td>\n",
       "      <td>7</td>\n",
       "      <td>10</td>\n",
       "    </tr>\n",
       "    <tr>\n",
       "      <th>2</th>\n",
       "      <td>5</td>\n",
       "      <td>8</td>\n",
       "      <td>11</td>\n",
       "    </tr>\n",
       "    <tr>\n",
       "      <th>3</th>\n",
       "      <td>6</td>\n",
       "      <td>9</td>\n",
       "      <td>12</td>\n",
       "    </tr>\n",
       "  </tbody>\n",
       "</table>\n",
       "</div>"
      ],
      "text/plain": [
       "   a  b   c\n",
       "1  4  7  10\n",
       "2  5  8  11\n",
       "3  6  9  12"
      ]
     },
     "execution_count": 42,
     "metadata": {},
     "output_type": "execute_result"
    }
   ],
   "source": [
    "df\n"
   ]
  },
  {
   "cell_type": "code",
   "execution_count": 43,
   "id": "347ea5f7",
   "metadata": {},
   "outputs": [],
   "source": [
    "#or another way is this\n",
    "\n",
    "df1 = pd.DataFrame(\n",
    "[[4, 8, 12],\n",
    "[5, 10, 15],\n",
    "[3, 6, 9]], \n",
    "index=[1, 2, 3], \n",
    "columns=['a', 'b', 'c'])\n"
   ]
  },
  {
   "cell_type": "code",
   "execution_count": 44,
   "id": "49b55953",
   "metadata": {},
   "outputs": [
    {
     "data": {
      "application/vnd.microsoft.datawrangler.viewer.v0+json": {
       "columns": [
        {
         "name": "index",
         "rawType": "int64",
         "type": "integer"
        },
        {
         "name": "a",
         "rawType": "int64",
         "type": "integer"
        },
        {
         "name": "b",
         "rawType": "int64",
         "type": "integer"
        },
        {
         "name": "c",
         "rawType": "int64",
         "type": "integer"
        }
       ],
       "conversionMethod": "pd.DataFrame",
       "ref": "0020a421-4b9e-477f-8c67-57d6f20abfa8",
       "rows": [
        [
         "1",
         "4",
         "8",
         "12"
        ],
        [
         "2",
         "5",
         "10",
         "15"
        ],
        [
         "3",
         "3",
         "6",
         "9"
        ]
       ],
       "shape": {
        "columns": 3,
        "rows": 3
       }
      },
      "text/html": [
       "<div>\n",
       "<style scoped>\n",
       "    .dataframe tbody tr th:only-of-type {\n",
       "        vertical-align: middle;\n",
       "    }\n",
       "\n",
       "    .dataframe tbody tr th {\n",
       "        vertical-align: top;\n",
       "    }\n",
       "\n",
       "    .dataframe thead th {\n",
       "        text-align: right;\n",
       "    }\n",
       "</style>\n",
       "<table border=\"1\" class=\"dataframe\">\n",
       "  <thead>\n",
       "    <tr style=\"text-align: right;\">\n",
       "      <th></th>\n",
       "      <th>a</th>\n",
       "      <th>b</th>\n",
       "      <th>c</th>\n",
       "    </tr>\n",
       "  </thead>\n",
       "  <tbody>\n",
       "    <tr>\n",
       "      <th>1</th>\n",
       "      <td>4</td>\n",
       "      <td>8</td>\n",
       "      <td>12</td>\n",
       "    </tr>\n",
       "    <tr>\n",
       "      <th>2</th>\n",
       "      <td>5</td>\n",
       "      <td>10</td>\n",
       "      <td>15</td>\n",
       "    </tr>\n",
       "    <tr>\n",
       "      <th>3</th>\n",
       "      <td>3</td>\n",
       "      <td>6</td>\n",
       "      <td>9</td>\n",
       "    </tr>\n",
       "  </tbody>\n",
       "</table>\n",
       "</div>"
      ],
      "text/plain": [
       "   a   b   c\n",
       "1  4   8  12\n",
       "2  5  10  15\n",
       "3  3   6   9"
      ]
     },
     "execution_count": 44,
     "metadata": {},
     "output_type": "execute_result"
    }
   ],
   "source": [
    "df1"
   ]
  },
  {
   "cell_type": "markdown",
   "id": "43c10d9d",
   "metadata": {},
   "source": [
    "# Multiindexing"
   ]
  },
  {
   "cell_type": "code",
   "execution_count": 45,
   "id": "fa9840e1",
   "metadata": {},
   "outputs": [
    {
     "name": "stdout",
     "output_type": "stream",
     "text": [
      "     a  b   c\n",
      "N M          \n",
      "d 1  4  7  10\n",
      "  2  5  8  11\n",
      "e 3  6  9  12\n"
     ]
    }
   ],
   "source": [
    "df=pd.DataFrame(\n",
    "    {\"a\" : [4, 5, 6], \n",
    "    \"b\" : [7, 8, 9], \n",
    "    \"c\" : [10, 11, 12]},    \n",
    "index= pd.MultiIndex.from_tuples(\n",
    "    [('d', 1), ('d', 2),\n",
    "     ('e', 3)], names=('N', 'M')))\n",
    "print(df)"
   ]
  },
  {
   "cell_type": "markdown",
   "id": "822b10f1",
   "metadata": {},
   "source": [
    "# Reshaping the data"
   ]
  },
  {
   "cell_type": "code",
   "execution_count": 46,
   "id": "1c6926f8",
   "metadata": {},
   "outputs": [
    {
     "data": {
      "application/vnd.microsoft.datawrangler.viewer.v0+json": {
       "columns": [
        {
         "name": "index",
         "rawType": "int64",
         "type": "integer"
        },
        {
         "name": "variable",
         "rawType": "object",
         "type": "string"
        },
        {
         "name": "value",
         "rawType": "int64",
         "type": "integer"
        }
       ],
       "conversionMethod": "pd.DataFrame",
       "ref": "131884a2-a4e7-40db-97ac-dccf60c25a53",
       "rows": [
        [
         "0",
         "a",
         "4"
        ],
        [
         "1",
         "a",
         "5"
        ],
        [
         "2",
         "a",
         "6"
        ],
        [
         "3",
         "b",
         "7"
        ],
        [
         "4",
         "b",
         "8"
        ],
        [
         "5",
         "b",
         "9"
        ],
        [
         "6",
         "c",
         "10"
        ],
        [
         "7",
         "c",
         "11"
        ],
        [
         "8",
         "c",
         "12"
        ]
       ],
       "shape": {
        "columns": 2,
        "rows": 9
       }
      },
      "text/html": [
       "<div>\n",
       "<style scoped>\n",
       "    .dataframe tbody tr th:only-of-type {\n",
       "        vertical-align: middle;\n",
       "    }\n",
       "\n",
       "    .dataframe tbody tr th {\n",
       "        vertical-align: top;\n",
       "    }\n",
       "\n",
       "    .dataframe thead th {\n",
       "        text-align: right;\n",
       "    }\n",
       "</style>\n",
       "<table border=\"1\" class=\"dataframe\">\n",
       "  <thead>\n",
       "    <tr style=\"text-align: right;\">\n",
       "      <th></th>\n",
       "      <th>variable</th>\n",
       "      <th>value</th>\n",
       "    </tr>\n",
       "  </thead>\n",
       "  <tbody>\n",
       "    <tr>\n",
       "      <th>0</th>\n",
       "      <td>a</td>\n",
       "      <td>4</td>\n",
       "    </tr>\n",
       "    <tr>\n",
       "      <th>1</th>\n",
       "      <td>a</td>\n",
       "      <td>5</td>\n",
       "    </tr>\n",
       "    <tr>\n",
       "      <th>2</th>\n",
       "      <td>a</td>\n",
       "      <td>6</td>\n",
       "    </tr>\n",
       "    <tr>\n",
       "      <th>3</th>\n",
       "      <td>b</td>\n",
       "      <td>7</td>\n",
       "    </tr>\n",
       "    <tr>\n",
       "      <th>4</th>\n",
       "      <td>b</td>\n",
       "      <td>8</td>\n",
       "    </tr>\n",
       "    <tr>\n",
       "      <th>5</th>\n",
       "      <td>b</td>\n",
       "      <td>9</td>\n",
       "    </tr>\n",
       "    <tr>\n",
       "      <th>6</th>\n",
       "      <td>c</td>\n",
       "      <td>10</td>\n",
       "    </tr>\n",
       "    <tr>\n",
       "      <th>7</th>\n",
       "      <td>c</td>\n",
       "      <td>11</td>\n",
       "    </tr>\n",
       "    <tr>\n",
       "      <th>8</th>\n",
       "      <td>c</td>\n",
       "      <td>12</td>\n",
       "    </tr>\n",
       "  </tbody>\n",
       "</table>\n",
       "</div>"
      ],
      "text/plain": [
       "  variable  value\n",
       "0        a      4\n",
       "1        a      5\n",
       "2        a      6\n",
       "3        b      7\n",
       "4        b      8\n",
       "5        b      9\n",
       "6        c     10\n",
       "7        c     11\n",
       "8        c     12"
      ]
     },
     "execution_count": 46,
     "metadata": {},
     "output_type": "execute_result"
    }
   ],
   "source": [
    "#Melt is for melting the data into a single column\n",
    "\n",
    "pd.melt(df)"
   ]
  },
  {
   "cell_type": "code",
   "execution_count": 47,
   "id": "3b401065",
   "metadata": {},
   "outputs": [
    {
     "data": {
      "application/vnd.microsoft.datawrangler.viewer.v0+json": {
       "columns": [
        {
         "name": "index",
         "rawType": "object",
         "type": "unknown"
        },
        {
         "name": "a",
         "rawType": "int64",
         "type": "integer"
        },
        {
         "name": "b",
         "rawType": "int64",
         "type": "integer"
        },
        {
         "name": "c",
         "rawType": "int64",
         "type": "integer"
        }
       ],
       "conversionMethod": "pd.DataFrame",
       "ref": "67851bdf-b7ab-42e5-baff-d58dde5f946e",
       "rows": [
        [
         "('d', 1)",
         "4",
         "7",
         "10"
        ],
        [
         "('d', 2)",
         "5",
         "8",
         "11"
        ],
        [
         "('e', 3)",
         "6",
         "9",
         "12"
        ],
        [
         "1",
         "4",
         "8",
         "12"
        ],
        [
         "2",
         "5",
         "10",
         "15"
        ],
        [
         "3",
         "3",
         "6",
         "9"
        ]
       ],
       "shape": {
        "columns": 3,
        "rows": 6
       }
      },
      "text/html": [
       "<div>\n",
       "<style scoped>\n",
       "    .dataframe tbody tr th:only-of-type {\n",
       "        vertical-align: middle;\n",
       "    }\n",
       "\n",
       "    .dataframe tbody tr th {\n",
       "        vertical-align: top;\n",
       "    }\n",
       "\n",
       "    .dataframe thead th {\n",
       "        text-align: right;\n",
       "    }\n",
       "</style>\n",
       "<table border=\"1\" class=\"dataframe\">\n",
       "  <thead>\n",
       "    <tr style=\"text-align: right;\">\n",
       "      <th></th>\n",
       "      <th>a</th>\n",
       "      <th>b</th>\n",
       "      <th>c</th>\n",
       "    </tr>\n",
       "  </thead>\n",
       "  <tbody>\n",
       "    <tr>\n",
       "      <th>(d, 1)</th>\n",
       "      <td>4</td>\n",
       "      <td>7</td>\n",
       "      <td>10</td>\n",
       "    </tr>\n",
       "    <tr>\n",
       "      <th>(d, 2)</th>\n",
       "      <td>5</td>\n",
       "      <td>8</td>\n",
       "      <td>11</td>\n",
       "    </tr>\n",
       "    <tr>\n",
       "      <th>(e, 3)</th>\n",
       "      <td>6</td>\n",
       "      <td>9</td>\n",
       "      <td>12</td>\n",
       "    </tr>\n",
       "    <tr>\n",
       "      <th>1</th>\n",
       "      <td>4</td>\n",
       "      <td>8</td>\n",
       "      <td>12</td>\n",
       "    </tr>\n",
       "    <tr>\n",
       "      <th>2</th>\n",
       "      <td>5</td>\n",
       "      <td>10</td>\n",
       "      <td>15</td>\n",
       "    </tr>\n",
       "    <tr>\n",
       "      <th>3</th>\n",
       "      <td>3</td>\n",
       "      <td>6</td>\n",
       "      <td>9</td>\n",
       "    </tr>\n",
       "  </tbody>\n",
       "</table>\n",
       "</div>"
      ],
      "text/plain": [
       "        a   b   c\n",
       "(d, 1)  4   7  10\n",
       "(d, 2)  5   8  11\n",
       "(e, 3)  6   9  12\n",
       "1       4   8  12\n",
       "2       5  10  15\n",
       "3       3   6   9"
      ]
     },
     "execution_count": 47,
     "metadata": {},
     "output_type": "execute_result"
    }
   ],
   "source": [
    "#for merging two tables together\n",
    "df2=pd.concat([df,df1])\n",
    "df2"
   ]
  },
  {
   "cell_type": "code",
   "execution_count": 48,
   "id": "f9b43569",
   "metadata": {},
   "outputs": [
    {
     "name": "stdout",
     "output_type": "stream",
     "text": [
      "      a   b   c   d   e   f\n",
      "N M                        \n",
      "g 1   4   5   6   4   5   3\n",
      "h 2   7   8   9   8  10   6\n",
      "i 3  10  11  12  12  15   9\n",
      "j 4  12  23  15  16  20  12\n",
      "k 5  15  12  18  20  25  15\n",
      "l 6  17  24  21  24  30  18\n"
     ]
    }
   ],
   "source": [
    "df2=pd.DataFrame(\n",
    "    { \"a\": [4, 7,10, 12, 15, 17], \n",
    "    \"b\": [5, 8, 11, 23, 12, 24],\n",
    "    \"c\": [6, 9, 12, 15, 18, 21],\n",
    "    \"d\": [4, 8, 12, 16, 20, 24],\n",
    "    \"e\": [5, 10, 15, 20, 25, 30],\n",
    "    \"f\": [3, 6, 9, 12, 15, 18]},\n",
    "index= pd.MultiIndex.from_tuples([('g', 1), ('h', 2), ('i', 3), ('j', 4), ('k', 5), ('l', 6)],\n",
    "    names= ['N', 'M']))\n",
    "print(df2)"
   ]
  },
  {
   "cell_type": "code",
   "execution_count": 49,
   "id": "5a3e5940",
   "metadata": {},
   "outputs": [
    {
     "name": "stdout",
     "output_type": "stream",
     "text": [
      "Index(['a', 'b', 'c', 'd', 'e', 'f'], dtype='object')\n"
     ]
    }
   ],
   "source": [
    "print(df2.columns)"
   ]
  },
  {
   "cell_type": "code",
   "execution_count": null,
   "id": "360cf4fe",
   "metadata": {},
   "outputs": [],
   "source": []
  }
 ],
 "metadata": {
  "kernelspec": {
   "display_name": "base",
   "language": "python",
   "name": "python3"
  },
  "language_info": {
   "codemirror_mode": {
    "name": "ipython",
    "version": 3
   },
   "file_extension": ".py",
   "mimetype": "text/x-python",
   "name": "python",
   "nbconvert_exporter": "python",
   "pygments_lexer": "ipython3",
   "version": "3.12.4"
  }
 },
 "nbformat": 4,
 "nbformat_minor": 5
}
